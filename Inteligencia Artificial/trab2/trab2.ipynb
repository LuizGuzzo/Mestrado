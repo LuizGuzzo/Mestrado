{
 "cells": [
  {
   "cell_type": "markdown",
   "metadata": {},
   "source": [
    "## Descrição\n",
    "\n",
    "- Treinar uma rede neural com 1 camada oculta e função de ativação tanh (tangente hiperbolica) usando algoritmo genetico e simulated annealing.\n",
    "- tarefa: regressão de 1 variavel de entrada e 1 variavel de saida.\n",
    "- funçao real: seno.\n",
    "- Deve ser somado ruido Gaussiano aos pontos reais.\n",
    "- conjunto de treino: pontos no intervalor -PI a PI.\n",
    "- conjunto de teste: pontos no intervalor de 0 a 2 PI.\n",
    "- Avaliar como o erro varia ao aumentar o numero de neuronios nos conjuntos de treino e teste.\n"
   ]
  },
  {
   "cell_type": "markdown",
   "metadata": {},
   "source": [
    "## ENTREGAR\n",
    "Devem ser entregues os códigos-fontes e um relatório que apresente e discuta, para cada algoritmo (GA e Simulated Annealing), os artefatos abaixo:\n",
    "- tabela com erro para rede com 2,4,8,16,32,64,128 neuronios (Num neuronios | erro treino | erro teste) <font color='green'>Done</font>\n",
    "- Grafico de evoluçao da fitness (erro no treino) para cada configuraçao <font color='green'>Done</font>\n",
    "- Grafico da funçao final para cada configuraçao. <font color='green'>Done</font>\n",
    "\n",
    "## Pontos Extras\n",
    "- Implementar o método de descida do gradiente (Gradient Descent) e comparar com as metaheurísticas: +5 pontos. <font color='Red'>NOT DONE - n sei fazer </font>\n",
    "- Implementar o código de forma que seja possível usar facilmente diferentes números de entradas, saídas e números de camadas: +5 pontos. <font color='green'>DONE - so precisa comentar a tabelaNeural com campos internos </font>\n",
    "- Realizar testes com outras funções além da função seno (pelo menos outras 2): +2 pontos. <font color='green'>DONE - esta na funçao true_regression_fn, é so escolher qual retorno que voce quer </font>"
   ]
  },
  {
   "cell_type": "code",
   "execution_count": 2,
   "metadata": {},
   "outputs": [],
   "source": [
    "##FUNÇÕES \n",
    "\n",
    "def true_regression_fn(x): # troca pra coseno dps tangente\n",
    "    return np.sin(x) + np.random.normal(loc=0.0, scale = 0.1)\n",
    "#     return (x ** 2) + 5 * np.sin(5 * x) # complexa o suficiente para nao precisar de ruido\n",
    "#     return np.power((x/3),2) + np.random.normal(loc=0.0, scale = 0.1)\n",
    "\n",
    "def calculaRMSE(TREINO_ESCOPO,RESP_regression,rede):\n",
    "    \n",
    "    y_pred = []\n",
    "    y = RESP_regression\n",
    "    for input in TREINO_ESCOPO:\n",
    "        data = processNN([input],rede)[0] # ja que é uma entrada e uma saida por isso do [0]\n",
    "#         print(data)\n",
    "        y_pred.append(data)\n",
    "    \n",
    "#     print(\"y_pred:\",len(y_pred))\n",
    "#     print(\"y:\",len(y))\n",
    "\n",
    "    error = np.subtract(y,y_pred)\n",
    "    \n",
    "#     print(error)\n",
    "    return np.sqrt(np.mean(np.square(error)))\n",
    "    \n",
    "\n",
    "def processNN(entrada,rede):\n",
    "    activations = []\n",
    "    for l in rede:\n",
    "        activations.append(l.forward(entrada))\n",
    "        entrada = activations[-1]\n",
    "    return entrada\n",
    "\n",
    "def plot_fn(true_regression_fn, search_space, step=0.1):\n",
    "    # plt.clf()\n",
    "    x = np.arange(search_space[0], search_space[1], step)\n",
    "    y = np.array(list(map(true_regression_fn, x)))\n",
    "    plt.plot(x, y, label = \"regression_fn\")"
   ]
  },
  {
   "cell_type": "code",
   "execution_count": 3,
   "metadata": {},
   "outputs": [],
   "source": [
    "## NN\n",
    "\n",
    "class Camada():\n",
    "    def __init__(self, input_units, output_units):\n",
    "        # iniciando os pesos \"aleatoriamente\" (matriz)\n",
    "        self.weights = np.random.uniform(low=SEARCH_SPACE[0], high = SEARCH_SPACE[1], size = (input_units,output_units))\n",
    "        self.biases = np.random.uniform(low=SEARCH_SPACE[0], high = SEARCH_SPACE[1], size = output_units)\n",
    "#         self.weights = np.zeros((input_units,output_units))\n",
    "#         self.biases = np.zeros(output_units)\n",
    "        #print(\"peso:\",self.weights)\n",
    "        #print(\"bias:\",self.biases)\n",
    "        \n",
    "    def forward(self,inpt):\n",
    "        # multiplicando o input com os pesos depois somando a bias + calculando o tanh\n",
    "        dot = np.dot(inpt,self.weights)\n",
    "        sum = dot + self.biases\n",
    "        tanh = np.tanh(sum)\n",
    "#         print(\"inpt:\",inpt)\n",
    "#         print(\"dot:\",dot)\n",
    "#         print(\"sum:\",sum)\n",
    "#         print(\"tanh:\",tanh)\n",
    "#         print(\"\\n\")\n",
    "        \n",
    "        return tanh #checar se o tamanho da matriz ta saindo correto\n"
   ]
  },
  {
   "cell_type": "code",
   "execution_count": 4,
   "metadata": {},
   "outputs": [],
   "source": [
    "## SIMULATED ANNEALING\n",
    "class SimulatedAnnealing():\n",
    "    \n",
    "    def __init__(self,search_space, DESVIO_PADRAO, temperature, alpha, num_vizinhos):\n",
    "        self.search_space = search_space\n",
    "        self.DESVIO_PADRAO = DESVIO_PADRAO\n",
    "        self.temperature = temperature\n",
    "        self.alpha = alpha\n",
    "        self.num_vizinhos = num_vizinhos\n",
    "\n",
    "    def gera_vizinhos(self,solucao):\n",
    "        vizinhos = []\n",
    "        \n",
    "        for _ in range(self.num_vizinhos):\n",
    "\n",
    "            #condiçao de mutaçao\n",
    "            if random.uniform(0,1) <= 0.5:\n",
    "                vizinho = solucao + np.random.normal(loc=0, scale=self.DESVIO_PADRAO)\n",
    "                #adiciona gaussiana no dado\n",
    "\n",
    "                # basicamente vai pegar outro vizinho enquanto estiver fora do espaço de busca\n",
    "                while vizinho < self.search_space[0] or vizinho > self.search_space[1]:\n",
    "                    if vizinho < self.search_space[0]:\n",
    "                        ruido = abs(np.random.normal(loc=0, scale=self.DESVIO_PADRAO))\n",
    "                    if vizinho > self.search_space[1]:\n",
    "                        ruido = -abs(np.random.normal(loc=0, scale=self.DESVIO_PADRAO))\n",
    "                    vizinho = solucao + ruido\n",
    "            else:\n",
    "                vizinho = random.uniform(self.search_space[0], self.search_space[1])\n",
    "                #muda o dado para um valor aleatorio dentro do espaço de busca\n",
    "            \n",
    "            vizinhos.append(vizinho)\n",
    "\n",
    "        return vizinhos\n",
    "    \n",
    "    def atTemperature(self):\n",
    "        self.temperature *= self.alpha\n",
    "        return self.temperature"
   ]
  },
  {
   "cell_type": "code",
   "execution_count": 5,
   "metadata": {},
   "outputs": [],
   "source": [
    "import random\n",
    "import pandas as pd\n",
    "import numpy as np\n",
    "import matplotlib.pyplot as plt\n",
    "import pylab as pl\n",
    "from IPython import display\n",
    "import tqdm\n",
    "from copy import deepcopy\n",
    "\n",
    "%matplotlib inline\n",
    "\n",
    "N_POPULACAO = 50 #50\n",
    "N_INTERACAO = 2000 #2000\n",
    "# np.random.seed(0)\n",
    "PI = np.pi\n",
    "SEARCH_SPACE = [-5,5] #espaço de operaçao\n",
    "TRAINING_SPACE = [-PI,PI] #espaço de treino\n",
    "\n",
    "TESTE_ESCOPO = [] # escopo de entradas de teste da rede\n",
    "aux = -2*PI\n",
    "while aux <= 2*PI:\n",
    "    TESTE_ESCOPO.append(aux)\n",
    "    aux += 0.2\n",
    "\n",
    "TREINO_ESCOPO = []\n",
    "aux = TRAINING_SPACE[0]\n",
    "for _ in range(32):\n",
    "    TREINO_ESCOPO.append(aux)\n",
    "    aux += 0.2\n",
    "    \n",
    "DESVIO_PADRAO = 0.3\n",
    "\n",
    "RESP_regression = []\n",
    "for x in TREINO_ESCOPO:\n",
    "    RESP_regression.append(true_regression_fn(x))\n",
    "    \n",
    "RESP_regression_teste = []\n",
    "for x in TESTE_ESCOPO:\n",
    "    RESP_regression_teste.append(true_regression_fn(x))\n",
    "            \n",
    "tabelaRmse = []"
   ]
  },
  {
   "cell_type": "code",
   "execution_count": 5,
   "metadata": {},
   "outputs": [
    {
     "name": "stdout",
     "output_type": "stream",
     "text": [
      "Ativar modo custom? '1' para sim '0' para nao\n"
     ]
    },
    {
     "name": "stdin",
     "output_type": "stream",
     "text": [
      " 1\n"
     ]
    },
    {
     "name": "stdout",
     "output_type": "stream",
     "text": [
      "Quantas camadas você deseja que a rede tenha?\n"
     ]
    },
    {
     "name": "stdin",
     "output_type": "stream",
     "text": [
      " 3\n"
     ]
    },
    {
     "name": "stdout",
     "output_type": "stream",
     "text": [
      "Quantos neuronios na camada 0 voce deseja?\n"
     ]
    },
    {
     "name": "stdin",
     "output_type": "stream",
     "text": [
      " 16\n"
     ]
    },
    {
     "name": "stdout",
     "output_type": "stream",
     "text": [
      "Quantos neuronios na camada 1 voce deseja?\n"
     ]
    },
    {
     "name": "stdin",
     "output_type": "stream",
     "text": [
      " 32\n"
     ]
    },
    {
     "name": "stdout",
     "output_type": "stream",
     "text": [
      "Quantos neuronios na camada 2 voce deseja?\n"
     ]
    },
    {
     "name": "stdin",
     "output_type": "stream",
     "text": [
      " 16\n"
     ]
    },
    {
     "name": "stdout",
     "output_type": "stream",
     "text": [
      "RMSE virgem: 1.3061956969582222\n"
     ]
    },
    {
     "name": "stderr",
     "output_type": "stream",
     "text": [
      "100%|██████████| 100000/100000 [01:27<00:00, 1141.57it/s]\n"
     ]
    },
    {
     "name": "stdout",
     "output_type": "stream",
     "text": [
      "RMSE Final: 0.08306772645947699\n"
     ]
    },
    {
     "data": {
      "image/png": "[encoded data removed]",
      "text/plain": [
       "<Figure size 720x576 with 2 Axes>"
      ]
     },
     "metadata": {
      "needs_background": "light"
     },
     "output_type": "display_data"
    },
    {
     "name": "stdout",
     "output_type": "stream",
     "text": [
      "TABELA DE RMSEs\n",
      "   qntNeuronios  rmseTreino  rmseTeste\n",
      "0             0    0.083068   0.862558\n"
     ]
    }
   ],
   "source": [
    "## MAIN SA\n",
    "tabelaRmse = []\n",
    "def mainSA():\n",
    "    \n",
    "    # caso precise criar uma rede com varias entradas\n",
    "#     entrada = [] # entrada varios valores\n",
    "#     aux = -3\n",
    "#     for _ in range(6):\n",
    "#         entrada.append(aux)\n",
    "#         aux += 1\n",
    "\n",
    "        \n",
    "    RESP_regression = []\n",
    "    for x in TREINO_ESCOPO:\n",
    "        RESP_regression.append(true_regression_fn(x))\n",
    "    \n",
    "\n",
    "    \n",
    "    entrada = [0]\n",
    "    tabelaNeural = [2,4,8,16,32,64,128]\n",
    "    print(\"Ativar modo custom? '1' para sim '0' para nao\")\n",
    "    flagCustomNN = int(input()) # Alterar para False para o modo automatico e True para customizar sua NN\n",
    "    neuronios_camada = []\n",
    "    \n",
    "    if flagCustomNN == 1:\n",
    "        tabelaNeural = [0]   #evitar loops         \n",
    "        print(\"Quantas camadas você deseja que a rede tenha?\")\n",
    "        camadas = int(input()) # quantas camadas vc quer\n",
    "        inLayer = len(entrada)\n",
    "        for i in range(camadas):\n",
    "            print(\"Quantos neuronios na camada\",i,\"voce deseja?\")\n",
    "            outLayer = int(input()) # quantos neuronios vc quer\n",
    "            neuronios_camada.append(outLayer)\n",
    "        neuronios_camada.append(len(entrada))\n",
    "    \n",
    "    for tn in range(len(tabelaNeural)):\n",
    "        rede = []\n",
    "        RMSEs = []\n",
    "        inLayer = len(entrada)\n",
    "        #######\n",
    "        if flagCustomNN == True:\n",
    "            inLayer = len(entrada)\n",
    "            for outLayer in neuronios_camada:\n",
    "                rede.append(Camada(inLayer,outLayer))\n",
    "                inLayer = outLayer\n",
    "           \n",
    "        else:\n",
    "            print(\"EXECUTANDO TABELA NEURAL [ INTERACAO:\",tn,\"NEURONIOS:\",tabelaNeural[tn],\"]\")\n",
    "            camadas = 1\n",
    "            inLayer = len(entrada)\n",
    "            for i in range(camadas):\n",
    "                outLayer = tabelaNeural[tn]\n",
    "                rede.append(Camada(inLayer,outLayer))\n",
    "                inLayer = outLayer\n",
    "            rede.append(Camada(inLayer,len(entrada)))\n",
    "\n",
    "#         #######\n",
    "#         if len(tabelaNeural) < 1:\n",
    "#             print(\"Quantas camadas você deseja que a rede tenha?\")\n",
    "#             camadas = int(input()) # quantas camadas vc quer\n",
    "#             for i in range(camadas):\n",
    "#                 print(\"Quantos neuronios na camada\",i,\"voce deseja?\")\n",
    "#                 outLayer = int(input()) # quantos neuronios vc quer\n",
    "#                 rede.append(Camada(inLayer,outLayer))\n",
    "#                 inLayer = outLayer\n",
    "#         else:\n",
    "#             camadas = 1    \n",
    "#             for i in range(camadas):\n",
    "#                 outLayer = tabelaNeural[tn]\n",
    "#                 rede.append(Camada(inLayer,outLayer))\n",
    "#                 inLayer = outLayer\n",
    "#             print(\"EXECUTANDO TABELA NEURAL [ INTERACAO:\",tn,\"NEURONIOS:\",tabelaNeural[tn],\"]\")\n",
    "#         rede.append(Camada(inLayer,len(entrada)))\n",
    "\n",
    "        rmse = calculaRMSE(TREINO_ESCOPO,RESP_regression,rede)\n",
    "\n",
    "        RMSEs.append(rmse)\n",
    "\n",
    "        print(\"RMSE virgem:\",rmse)        \n",
    "\n",
    "        SA = SimulatedAnnealing(search_space = SEARCH_SPACE, # espaço de treino da rede\n",
    "                                DESVIO_PADRAO = 0.3,\n",
    "                                temperature = 100,\n",
    "                                alpha = 0.995,\n",
    "                                num_vizinhos = 1)\n",
    "\n",
    "        # modificando um dado da rede para calcular o novo RMSE se ele melhora atualiza a rede, se nao vai para proxima interacao\n",
    "        for p in tqdm.tqdm(range(N_POPULACAO*N_INTERACAO)):\n",
    "            # extraindo ids da rede\n",
    "            layerId = np.random.randint(len(rede))\n",
    "            weighId = np.random.randint(len(rede[layerId].weights))\n",
    "            neuroId = np.random.randint(len(rede[layerId].weights[weighId]))\n",
    "\n",
    "#             print(\"camada[{}/{}], peso[{}/{}], neuronio[{}/{}] \".format(len(rede),layerId,len(rede[layerId].weights),weighId,len(rede[layerId].weights[weighId]),neuroId))\n",
    "            \n",
    "            # extraindo peso e bias\n",
    "            peso = rede[layerId].weights[weighId][neuroId]\n",
    "            bias = rede[layerId].biases[neuroId]\n",
    "\n",
    "            # filtro para mudar Peso ou Bias\n",
    "            if random.uniform(0,1) <= 0.5:\n",
    "                isPeso = True\n",
    "                data = peso\n",
    "            else:\n",
    "                isPeso = False\n",
    "                data = bias\n",
    "            \n",
    "            vizinhos = SA.gera_vizinhos(data)\n",
    "            for data_vizinha in vizinhos:\n",
    "                newRede = deepcopy(rede)\n",
    "\n",
    "                if isPeso:\n",
    "                    newRede[layerId].weights[weighId][neuroId] = data_vizinha\n",
    "                else:\n",
    "                    newRede[layerId].biases[neuroId] = data_vizinha\n",
    "\n",
    "                newRMSE = calculaRMSE(TREINO_ESCOPO,RESP_regression,newRede)\n",
    "\n",
    "                if newRMSE < rmse:\n",
    "                    rmse = newRMSE # RMSE da nova  rede\n",
    "                    rede = newRede # nova rede\n",
    "\n",
    "                else:  # data_vizinha eh pior (delta >= 0)\n",
    "                    delta = rmse - newRMSE\n",
    "                    prob_aceitacao = np.exp(delta / SA.temperature)\n",
    "                    if random.uniform(0, 1) < prob_aceitacao:\n",
    "                        # data_vizinha eh aceito mesmo sendo pior.\n",
    "                        rmse = newRMSE # RMSE da nova  rede\n",
    "                        rede = newRede # nova rede\n",
    "                \n",
    "                SA.atTemperature()\n",
    "                RMSEs.append(rmse)\n",
    "\n",
    "\n",
    "        print(\"RMSE Final:\", rmse)\n",
    "        \n",
    "        resultado_teste = []\n",
    "\n",
    "        resultado_treino=[]\n",
    "        for te in TREINO_ESCOPO:\n",
    "            resultado_treino.append(processNN([te],rede)[0])\n",
    "        \n",
    "        for te in TESTE_ESCOPO:\n",
    "            resultado_teste.append(processNN([te],rede)[0])\n",
    "        \n",
    "        rmseTeste = calculaRMSE(TESTE_ESCOPO,RESP_regression_teste,rede)\n",
    "            \n",
    "    \n",
    "        # adiciona o Rmse final a tabela \n",
    "        tabelaRmse.append([tabelaNeural[tn], rmse,rmseTeste])\n",
    "        \n",
    "        \n",
    "        # plota o conjunto de treinamento + conjunto de teste\n",
    "        figure= plt.subplots(figsize=(10, 8))\n",
    "        plt.title(\"RMSE\", fontsize=20)\n",
    "        plt.xlabel(\"interacoes\")\n",
    "        plt.ylabel(\"Fo\")\n",
    "        plt.subplot(2, 1, 1)\n",
    "        plt.cla()\n",
    "        plot_fn(true_regression_fn, SEARCH_SPACE)\n",
    "        plot_teste = plt.plot(TESTE_ESCOPO, resultado_teste,color='tab:green', markersize=7, label=\"teste\") # resposta da rede com o escopo de teste\n",
    "        plot_treino = plt.plot(TREINO_ESCOPO, resultado_treino,'*r', markersize=7, label = \"treino\") # resposta da rede com o escopo de treino\n",
    "        plt.legend(loc =\"upper right\")\n",
    "        plt.title(\"X and predicted Y - Neuronios: \"+str(tabelaNeural[tn]))\n",
    "        \n",
    "\n",
    "        plt.subplot(2, 1, 2)\n",
    "        # plta o avanço do rmse \n",
    "        plt.title(\"RMSEs\")\n",
    "        plt.plot(RMSEs)\n",
    "        plt.show()\n",
    "\n",
    "        \n",
    "    #printa a tabela\n",
    "    print(\"TABELA DE RMSEs\")\n",
    "    print(pd.DataFrame(tabelaRmse, columns=[\"qntNeuronios\", \"rmseTreino\", \"rmseTeste\"]))\n",
    "    \n",
    "    \n",
    "if __name__ == \"__main__\":\n",
    "    mainSA()"
   ]
  },
  {
   "cell_type": "markdown",
   "metadata": {},
   "source": [
    "### ALGORITMO GENETICO\n",
    "\n",
    "Passos:\n",
    "Cria-se uma populaçao de 50 individuo (vetor de individuos criado)\n",
    "- cada individuo tem seu gene, seu gene é a rede neural vetorizada\n",
    "- calcula-se sua aptidão, seria o resultado da rede calculando o RMSE\n",
    "\n",
    "Inicia-se um loop para cada individuo da populaçao: (isso representa uma geraçao)\n",
    "- Elitismo, escolhe o melhor individuo (o que possui a melhor aptidao), reservo-o para o final\n",
    "- Torneio, duelo entre 2 pessoas aleatorios e o mais forte vence é separado para cruzar com outro que vencer o duelo tambem.\n",
    "- - CrossOver, Misturo os genes de 2 individuos vencedores do duelo, gerando uma nova populaçao que serao os filhos\n",
    "- Mutaçao, (10%), individuo selecionado seu genes sao randomizados no intervalo (50%), ou adiciona-se um ruido no gene (gene é a rede neural)\n",
    "- - Na mutação, cada filho tem 10% de chance de mutar. A mutação é igual no SA. Um peso ou bias aleatório do indivíduo é transformado (nota que não são todos os números, é 1 só).\n",
    "- calculo aptidao, calculo o RMSE de todos os individuos (rodo a rede que eles carregam e vejo o resultado no RMSE)\n",
    "- add Elite, em toda populaçao procuro o PIOR individuo e substituo-o pelo elite do inicio do loop\n",
    "\n",
    "Repete-se o loop de cima 2000x que é o total de geraçoes percorridas"
   ]
  },
  {
   "cell_type": "code",
   "execution_count": 6,
   "metadata": {},
   "outputs": [
    {
     "name": "stdout",
     "output_type": "stream",
     "text": [
      "Ativar modo custom? '1' para sim '0' para nao\n"
     ]
    },
    {
     "name": "stdin",
     "output_type": "stream",
     "text": [
      " 1\n"
     ]
    },
    {
     "name": "stdout",
     "output_type": "stream",
     "text": [
      "Quantas camadas você deseja que a rede tenha?\n"
     ]
    },
    {
     "name": "stdin",
     "output_type": "stream",
     "text": [
      " 3\n"
     ]
    },
    {
     "name": "stdout",
     "output_type": "stream",
     "text": [
      "Quantos neuronios na camada 0 voce deseja?\n"
     ]
    },
    {
     "name": "stdin",
     "output_type": "stream",
     "text": [
      " 16\n"
     ]
    },
    {
     "name": "stdout",
     "output_type": "stream",
     "text": [
      "Quantos neuronios na camada 1 voce deseja?\n"
     ]
    },
    {
     "name": "stdin",
     "output_type": "stream",
     "text": [
      " 32\n"
     ]
    },
    {
     "name": "stdout",
     "output_type": "stream",
     "text": [
      "Quantos neuronios na camada 2 voce deseja?\n"
     ]
    },
    {
     "name": "stdin",
     "output_type": "stream",
     "text": [
      " 16\n"
     ]
    },
    {
     "name": "stderr",
     "output_type": "stream",
     "text": [
      "100%|██████████| 50/50 [00:00<00:00, 1219.49it/s]\n"
     ]
    },
    {
     "name": "stdout",
     "output_type": "stream",
     "text": [
      "first elite: 0.5541555836583377\n"
     ]
    },
    {
     "name": "stderr",
     "output_type": "stream",
     "text": [
      "  0%|          | 0/2000 [00:00<?, ?it/s]"
     ]
    },
    {
     "name": "stdout",
     "output_type": "stream",
     "text": [
      "0.508368980829314 < 0.5541555836583377\n"
     ]
    },
    {
     "name": "stderr",
     "output_type": "stream",
     "text": [
      "  0%|          | 2/2000 [00:00<02:42, 12.27it/s]"
     ]
    },
    {
     "name": "stdout",
     "output_type": "stream",
     "text": [
      "0.41263322116949563 < 0.508368980829314\n"
     ]
    },
    {
     "name": "stderr",
     "output_type": "stream",
     "text": [
      "  0%|          | 4/2000 [00:00<02:34, 12.88it/s]"
     ]
    },
    {
     "name": "stdout",
     "output_type": "stream",
     "text": [
      "0.3734139932496975 < 0.41263322116949563\n"
     ]
    },
    {
     "name": "stderr",
     "output_type": "stream",
     "text": [
      "  0%|          | 6/2000 [00:00<02:41, 12.31it/s]"
     ]
    },
    {
     "name": "stdout",
     "output_type": "stream",
     "text": [
      "0.3486727268031141 < 0.3734139932496975\n"
     ]
    },
    {
     "name": "stderr",
     "output_type": "stream",
     "text": [
      "  0%|          | 8/2000 [00:00<02:33, 12.94it/s]"
     ]
    },
    {
     "name": "stdout",
     "output_type": "stream",
     "text": [
      "0.3478110383580706 < 0.3486727268031141\n"
     ]
    },
    {
     "name": "stderr",
     "output_type": "stream",
     "text": [
      "  1%|          | 12/2000 [00:00<02:32, 13.02it/s]"
     ]
    },
    {
     "name": "stdout",
     "output_type": "stream",
     "text": [
      "0.3324472030610905 < 0.3478110383580706\n"
     ]
    },
    {
     "name": "stderr",
     "output_type": "stream",
     "text": [
      "  1%|          | 14/2000 [00:01<02:31, 13.10it/s]"
     ]
    },
    {
     "name": "stdout",
     "output_type": "stream",
     "text": [
      "0.3209090368693674 < 0.3324472030610905\n",
      "0.31178361219311 < 0.3209090368693674\n"
     ]
    },
    {
     "name": "stderr",
     "output_type": "stream",
     "text": [
      "  1%|          | 16/2000 [00:01<02:43, 12.11it/s]"
     ]
    },
    {
     "name": "stdout",
     "output_type": "stream",
     "text": [
      "0.31053651352525213 < 0.31178361219311\n",
      "0.30714313941446253 < 0.31053651352525213\n"
     ]
    },
    {
     "name": "stderr",
     "output_type": "stream",
     "text": [
      "  1%|          | 18/2000 [00:01<02:48, 11.75it/s]"
     ]
    },
    {
     "name": "stdout",
     "output_type": "stream",
     "text": [
      "0.30683815858220226 < 0.30714313941446253\n"
     ]
    },
    {
     "name": "stderr",
     "output_type": "stream",
     "text": [
      "  1%|          | 20/2000 [00:01<02:49, 11.67it/s]"
     ]
    },
    {
     "name": "stdout",
     "output_type": "stream",
     "text": [
      "0.3057635389830011 < 0.30683815858220226\n",
      "0.3050416819044048 < 0.3057635389830011\n"
     ]
    },
    {
     "name": "stderr",
     "output_type": "stream",
     "text": [
      "  1%|          | 22/2000 [00:01<02:55, 11.30it/s]"
     ]
    },
    {
     "name": "stdout",
     "output_type": "stream",
     "text": [
      "0.3041019817420507 < 0.3050416819044048\n"
     ]
    },
    {
     "name": "stderr",
     "output_type": "stream",
     "text": [
      "  1%|          | 24/2000 [00:02<03:18,  9.97it/s]"
     ]
    },
    {
     "name": "stdout",
     "output_type": "stream",
     "text": [
      "0.30405831959145535 < 0.3041019817420507\n"
     ]
    },
    {
     "name": "stderr",
     "output_type": "stream",
     "text": [
      "  1%|▏         | 26/2000 [00:02<03:14, 10.13it/s]"
     ]
    },
    {
     "name": "stdout",
     "output_type": "stream",
     "text": [
      "0.3039716703356918 < 0.30405831959145535\n"
     ]
    },
    {
     "name": "stderr",
     "output_type": "stream",
     "text": [
      "  2%|▏         | 32/2000 [00:02<02:44, 11.96it/s]"
     ]
    },
    {
     "name": "stdout",
     "output_type": "stream",
     "text": [
      "0.3039524855867237 < 0.3039716703356918\n"
     ]
    },
    {
     "name": "stderr",
     "output_type": "stream",
     "text": [
      "  2%|▏         | 40/2000 [00:03<02:39, 12.31it/s]"
     ]
    },
    {
     "name": "stdout",
     "output_type": "stream",
     "text": [
      "0.30395038520419515 < 0.3039524855867237\n"
     ]
    },
    {
     "name": "stderr",
     "output_type": "stream",
     "text": [
      "  3%|▎         | 54/2000 [00:04<02:10, 14.88it/s]"
     ]
    },
    {
     "name": "stdout",
     "output_type": "stream",
     "text": [
      "0.30395021248317305 < 0.30395038520419515\n"
     ]
    },
    {
     "name": "stderr",
     "output_type": "stream",
     "text": [
      "  4%|▍         | 84/2000 [00:06<02:04, 15.39it/s]"
     ]
    },
    {
     "name": "stdout",
     "output_type": "stream",
     "text": [
      "0.30395021245044573 < 0.30395021248317305\n"
     ]
    },
    {
     "name": "stderr",
     "output_type": "stream",
     "text": [
      "  4%|▍         | 88/2000 [00:07<02:16, 13.97it/s]"
     ]
    },
    {
     "name": "stdout",
     "output_type": "stream",
     "text": [
      "0.30395021245033355 < 0.30395021245044573\n"
     ]
    },
    {
     "name": "stderr",
     "output_type": "stream",
     "text": [
      "  5%|▌         | 102/2000 [00:08<02:03, 15.42it/s]"
     ]
    },
    {
     "name": "stdout",
     "output_type": "stream",
     "text": [
      "0.30395021244890236 < 0.30395021245033355\n"
     ]
    },
    {
     "name": "stderr",
     "output_type": "stream",
     "text": [
      "  5%|▌         | 104/2000 [00:08<02:02, 15.49it/s]"
     ]
    },
    {
     "name": "stdout",
     "output_type": "stream",
     "text": [
      "0.30395021244809467 < 0.30395021244890236\n"
     ]
    },
    {
     "name": "stderr",
     "output_type": "stream",
     "text": [
      "  6%|▌         | 112/2000 [00:08<02:12, 14.25it/s]"
     ]
    },
    {
     "name": "stdout",
     "output_type": "stream",
     "text": [
      "0.30395021244751114 < 0.30395021244809467\n"
     ]
    },
    {
     "name": "stderr",
     "output_type": "stream",
     "text": [
      "  8%|▊         | 170/2000 [00:12<01:52, 16.25it/s]"
     ]
    },
    {
     "name": "stdout",
     "output_type": "stream",
     "text": [
      "0.3039502124475111 < 0.30395021244751114\n"
     ]
    },
    {
     "name": "stderr",
     "output_type": "stream",
     "text": [
      "100%|██████████| 2000/2000 [02:20<00:00, 14.20it/s]\n"
     ]
    },
    {
     "name": "stdout",
     "output_type": "stream",
     "text": [
      "rmse Elite: 0.3039502124475111\n"
     ]
    },
    {
     "data": {
      "image/png": "[encoded data removed]",
      "text/plain": [
       "<Figure size 720x576 with 2 Axes>"
      ]
     },
     "metadata": {
      "needs_background": "light"
     },
     "output_type": "display_data"
    },
    {
     "name": "stdout",
     "output_type": "stream",
     "text": [
      "TABELA DE RMSEs\n",
      "   qntNeuronios  rmseTreio  rmseTeste\n",
      "0             0    0.30395   1.158585\n"
     ]
    }
   ],
   "source": [
    "#### tabelaRmse = []\n",
    "class individuo():\n",
    "    def __init__(self,rede,aptidao):\n",
    "        self.gene = rede\n",
    "        self.aptidao = aptidao\n",
    "    \n",
    "    def toPrint(self):\n",
    "        print(\"<><><><>\\ngene:\")\n",
    "        for layer in self.gene:\n",
    "            print(\"pesos:\")\n",
    "            print(layer.weights)\n",
    "            print(\"biases:\")\n",
    "            print(layer.biases)\n",
    "        print(\"aptidao:\",self.aptidao)\n",
    "\n",
    "        \n",
    "def find_best_individual(populacao):\n",
    "    bestSheep = populacao[0]\n",
    "    for ind in populacao:\n",
    "        if ind.aptidao < bestSheep.aptidao:\n",
    "            bestSheep = ind\n",
    "            \n",
    "    return deepcopy(bestSheep)\n",
    "        \n",
    "\n",
    "def selection_and_crossover(populacao):\n",
    "    # pega 2 individuos aleatorios\n",
    "    # para cada individuo procura um oponente de forma aleatoria\n",
    "    # gera 2 duelos, os vencedores se copulam\n",
    "    # populaçao mais forte gerada\n",
    "    strongPopulation = []\n",
    "    for _ in range(len(populacao)//2):\n",
    "        casalForte = []\n",
    "        ind1 = populacao[np.random.randint(0,len(populacao))]\n",
    "        ind2 = populacao[np.random.randint(0,len(populacao))]\n",
    "        \n",
    "        opo1 = populacao[np.random.randint(0,len(populacao))]\n",
    "        opo2 = populacao[np.random.randint(0,len(populacao))]\n",
    "        \n",
    "        #garantir que nao sao a mesmas pessoas lutando entre si\n",
    "        while ind2 is ind1:\n",
    "#             print(\"1\",ind1.aptidao,ind2.aptidao)\n",
    "            ind2 = populacao[np.random.randint(0,len(populacao))]           \n",
    "        while opo1 is ind1 or opo1 is ind2:\n",
    "#             print(\"2\",ind1.aptidao,opo1.aptidao)\n",
    "            opo1 = populacao[np.random.randint(0,len(populacao))]           \n",
    "        while opo2 is opo1 or opo2 is ind2 or opo2 is ind1:\n",
    "#             print(\"3\",ind2.aptidao,opo2.aptidao)\n",
    "            opo2 = populacao[np.random.randint(0,len(populacao))]\n",
    "            \n",
    "        #tournament\n",
    "        if ind1.aptidao < opo1.aptidao:\n",
    "            casalForte.append(ind1)\n",
    "        else:\n",
    "            casalForte.append(opo1)\n",
    "            \n",
    "        if ind2.aptidao < opo2.aptidao:\n",
    "            casalForte.append(ind2)\n",
    "        else:\n",
    "            casalForte.append(opo2)\n",
    "        \n",
    "        sons = crossOver(casalForte[0],casalForte[1])\n",
    "        \n",
    "        for s in sons:\n",
    "            strongPopulation.append(deepcopy(s))\n",
    "    \n",
    "    return strongPopulation\n",
    "        \n",
    "        \n",
    "def crossOver(individuo1,individuo2):\n",
    "    ind1 = deepcopy(individuo1)\n",
    "    ind2 = deepcopy(individuo2)\n",
    "    c1 = deepcopy(individuo1)\n",
    "    c2 = deepcopy(individuo2)\n",
    "    for i in range(len(individuo1.gene)): # tamanho de camadas da rede\n",
    "        peso1 = ind1.gene[i].weights # matriz de peso\n",
    "        peso2 = ind2.gene[i].weights\n",
    "        biases1 = ind1.gene[i].biases # vetor de peso\n",
    "        biases2 = ind2.gene[i].biases\n",
    "        \n",
    "        A = random.uniform(0,1)\n",
    "        c1.gene[i].weights = A*peso1+(1-A)*peso2 # cruzando matriz peso\n",
    "        c2.gene[i].weights = A*peso2+(1-A)*peso1\n",
    "        c1.gene[i].biases = A*biases1+(1-A)*biases2 # cruzando vetor de biases\n",
    "        c2.gene[i].biases = A*biases2+(1-A)*biases1\n",
    "        \n",
    "#         c1.aptidao = calculaRMSE(TREINO_ESCOPO,RESP_regression,c1.gene)\n",
    "#         c2.aptidao = calculaRMSE(TREINO_ESCOPO,RESP_regression,c2.gene)\n",
    "    \n",
    "    return [c1,c2]\n",
    "\n",
    "def mutation(populacao):\n",
    "    for ind in populacao:\n",
    "        chance = np.random.randint(0, 100)\n",
    "        if chance <= 10:\n",
    "#             print (\"antes mutaçao \")\n",
    "#             ind.toPrint()\n",
    "#             rede = []\n",
    "#             inLayer = 1\n",
    "#             for i in range(len(ind.gene)):\n",
    "#                 outLayer = len(ind.gene[i].biases)\n",
    "#                 rede.append(Camada(inLayer,outLayer))\n",
    "#                 inLayer = outLayer\n",
    "# #             rede.append(Camada(inLayer,1))\n",
    "#             #novo genoma\n",
    "#             aptidao = calculaRMSE(TREINO_ESCOPO,RESP_regression,rede)\n",
    "# #             print(\"Depois mutaçao\")\n",
    "#             populacao.remove(ind) #mata a pessoa\n",
    "#             newInd = individuo(rede,aptidao)\n",
    "# #             newInd.toPrint()\n",
    "#             populacao.append(newInd)            \n",
    "#           #novo individuo\n",
    "            \n",
    "            #print(\"mutation TIMES\")\n",
    "            isPeso = False\n",
    "            rede = deepcopy(ind.gene)\n",
    "            # pega um peso/bias aleatorio\n",
    "            layerId = np.random.randint(len(rede))\n",
    "            weighId = np.random.randint(len(rede[layerId].weights))\n",
    "            neuroId = np.random.randint(len(rede[layerId].weights[weighId]))\n",
    "\n",
    "            # extraindo peso e bias\n",
    "            peso = rede[layerId].weights[weighId][neuroId]\n",
    "            bias = rede[layerId].biases[neuroId]\n",
    "\n",
    "            # filtro para mudar Peso ou Bias\n",
    "            if random.uniform(0,1) <= 0.5:\n",
    "                isPeso = True\n",
    "                data = peso\n",
    "            else:\n",
    "                isPeso = False\n",
    "                data = bias\n",
    "\n",
    "            if random.uniform(0,1) <= 0.5:\n",
    "                newdata = data + np.random.normal(loc=0, scale=DESVIO_PADRAO)\n",
    "                #adiciona gaussiana no dado\n",
    "                # basicamente vai pegar outro vizinho enquanto estiver fora do espaço de busca\n",
    "#                 print(\"newdata:\",newdata)\n",
    "                while newdata < SEARCH_SPACE[0] or newdata > SEARCH_SPACE[1]:\n",
    "                    ruido = abs(np.random.normal(loc=0, scale=DESVIO_PADRAO))\n",
    "                    if newdata < SEARCH_SPACE[0]:\n",
    "                        ruido = ruido\n",
    "                    if newdata > SEARCH_SPACE[1]:\n",
    "                        ruido = - ruido\n",
    "                    newdata = newdata + ruido\n",
    "#                     print(\"newdata:\",newdata)\n",
    "            else:\n",
    "                newdata = np.random.uniform(SEARCH_SPACE[0], SEARCH_SPACE[1])\n",
    "                #muda o dado para um valor aleatorio dentro do espaço de busca\n",
    "\n",
    "\n",
    "            if isPeso:\n",
    "                rede[layerId].weights[weighId][neuroId] = newdata\n",
    "            else:\n",
    "                rede[layerId].biases[neuroId] = newdata\n",
    "\n",
    "            ind.genes = deepcopy(rede) #vias das duvidas\n",
    "#             ind.aptidao = calculaRMSE(TREINO_ESCOPO,RESP_regression,rede)\n",
    "\n",
    "    return populacao\n",
    "\n",
    "def calc_aptidao(populacao,TREINO_ESCOPO,RESP_regression):\n",
    "    for ind in populacao:\n",
    "        ind.aptidao = calculaRMSE(TREINO_ESCOPO,RESP_regression,ind.gene)\n",
    "    return populacao\n",
    "\n",
    "def elitism(populacao,elite):\n",
    "    blackSheep = populacao[0]\n",
    "    bestSheep = populacao[0]\n",
    "    for ind in populacao:\n",
    "        if ind.aptidao > blackSheep.aptidao:\n",
    "            blackSheep = ind\n",
    "        if ind.aptidao < bestSheep.aptidao:\n",
    "            bestSheep = ind\n",
    "            \n",
    "    if bestSheep.aptidao <= elite.aptidao:\n",
    "        return populacao\n",
    "    else:\n",
    "        populacao.remove(blackSheep)\n",
    "        populacao.append(elite)\n",
    "#         print(len(populacao))\n",
    "                \n",
    "        return populacao\n",
    "\n",
    "def printpop(populacao):\n",
    "    for ind in populacao:\n",
    "        print(ind.aptidao)\n",
    "    \n",
    "def main():\n",
    "    \n",
    "    entrada = [0]\n",
    "    tabelaNeural = [2,4,8,16,32,64,128]\n",
    "    print(\"Ativar modo custom? '1' para sim '0' para nao\")\n",
    "    flagCustomNN = int(input()) # Alterar para False para o modo automatico e True para customizar sua NN\n",
    "    neuronios_camada = []\n",
    "    \n",
    "    if flagCustomNN == 1:\n",
    "        tabelaNeural = [0]   #evitar loops         \n",
    "        print(\"Quantas camadas você deseja que a rede tenha?\")\n",
    "        camadas = int(input()) # quantas camadas vc quer\n",
    "        inLayer = len(entrada)\n",
    "        for i in range(camadas):\n",
    "            print(\"Quantos neuronios na camada\",i,\"voce deseja?\")\n",
    "            outLayer = int(input()) # quantos neuronios vc quer\n",
    "            neuronios_camada.append(outLayer)\n",
    "        neuronios_camada.append(len(entrada))\n",
    "\n",
    "    for tn in range(len(tabelaNeural)):\n",
    "        populacao = []\n",
    "        RMSEs = []\n",
    "        \n",
    "        if flagCustomNN == True: # populaçao gerada customizada\n",
    "            for i in tqdm.tqdm(range(N_POPULACAO)):\n",
    "                rede = []\n",
    "                inLayer = len(entrada)\n",
    "                for outLayer in neuronios_camada:\n",
    "                    rede.append(Camada(inLayer,outLayer))\n",
    "                    inLayer = outLayer\n",
    "#                 rede.append(Camada(inLayer,len(entrada)))\n",
    "                #fez a rede\n",
    "                aptidao = calculaRMSE(TREINO_ESCOPO,RESP_regression,rede)\n",
    "                ind = individuo(rede,aptidao)\n",
    "                populacao.append(ind)\n",
    "        else:\n",
    "            camadas = 1\n",
    "        \n",
    "            #Cria a populaçao\n",
    "            for i in tqdm.tqdm(range(N_POPULACAO)):\n",
    "                rede = []\n",
    "                inLayer = len(entrada)\n",
    "                for i in range(camadas):\n",
    "                    outLayer = tabelaNeural[tn]\n",
    "                    rede.append(Camada(inLayer,outLayer))\n",
    "                    inLayer = outLayer\n",
    "                rede.append(Camada(inLayer,len(entrada)))\n",
    "                #fez a rede\n",
    "                aptidao = calculaRMSE(TREINO_ESCOPO,RESP_regression,rede)\n",
    "                ind = individuo(rede,aptidao)\n",
    "                populacao.append(ind)\n",
    "    #             ind.toPrint()\n",
    "            \n",
    "        \n",
    "        elite = find_best_individual(populacao)\n",
    "        rmse = elite.aptidao\n",
    "        print(\"first elite:\",rmse)\n",
    "        for _ in tqdm.tqdm(range(N_INTERACAO)):\n",
    "            populacao = selection_and_crossover(populacao)\n",
    "            populacao = mutation(populacao)\n",
    "            populacao = calc_aptidao(populacao,TREINO_ESCOPO,RESP_regression)\n",
    "            populacao = elitism(populacao,elite)\n",
    "            elite = find_best_individual(populacao)\n",
    "            \n",
    "#             printpop(populacao)\n",
    "            if elite.aptidao < rmse:\n",
    "                print(elite.aptidao,\"<\",rmse)\n",
    "            \n",
    "            \n",
    "            rmse = elite.aptidao\n",
    "            RMSEs.append(rmse)\n",
    "            \n",
    "        print(\"rmse Elite:\",elite.aptidao)\n",
    "        \n",
    "        resultado_teste = []\n",
    "\n",
    "        resultado_treino=[]\n",
    "        for te in TREINO_ESCOPO:\n",
    "            resultado_treino.append(processNN([te],rede)[0])\n",
    "        \n",
    "        for te in TESTE_ESCOPO:\n",
    "            resultado_teste.append(processNN([te],rede)[0])\n",
    "        \n",
    "        rmseTeste = calculaRMSE(TESTE_ESCOPO,RESP_regression_teste,rede)\n",
    "        \n",
    "        # adiciona o Rmse final a tabela \n",
    "        tabelaRmse.append([tabelaNeural[tn], rmse,rmseTeste])\n",
    "        \n",
    "        \n",
    "        # plota o conjunto de treinamento + conjunto de teste\n",
    "        figure= plt.subplots(figsize=(10, 8))\n",
    "        plt.title(\"RMSE\", fontsize=20)\n",
    "        plt.xlabel(\"interacoes\")\n",
    "        plt.ylabel(\"Fo\")\n",
    "        plt.subplot(2, 1, 1)\n",
    "        plt.cla()\n",
    "        plot_fn(true_regression_fn, SEARCH_SPACE)\n",
    "        plot_teste = plt.plot(TESTE_ESCOPO, resultado_teste,color='tab:green', markersize=7, label=\"teste\") # resposta da rede com o escopo de teste\n",
    "        plot_treino = plt.plot(TREINO_ESCOPO, resultado_treino,'*r', markersize=7, label = \"treino\") # resposta da rede com o escopo de treino\n",
    "        #plt.legend(handles=[plot_teste, plot_treino])plt.plot(X_teste, y_teste ,'o', label='Teste')\n",
    "        plt.legend(loc =\"upper right\")\n",
    "        plt.title(\"X and predicted Y - Neuronios: \"+str(tabelaNeural[tn]))\n",
    "        \n",
    "        plt.subplot(2, 1, 2)\n",
    "        # plta o avanço do rmse \n",
    "        plt.title(\"RMSEs\")\n",
    "        plt.plot(RMSEs)\n",
    "        plt.show()\n",
    "        \n",
    "\n",
    "        \n",
    "    #printa a tabela\n",
    "    print(\"TABELA DE RMSEs\")\n",
    "    print(pd.DataFrame(tabelaRmse, columns=[\"qntNeuronios\", \"rmseTreio\",\"rmseTeste\"]))\n",
    "    \n",
    "\n",
    "if __name__ == \"__main__\":\n",
    "    main()"
   ]
  },
  {
   "cell_type": "code",
   "execution_count": null,
   "metadata": {},
   "outputs": [],
   "source": []
  }
 ],
 "metadata": {
  "kernelspec": {
   "display_name": "Python 3",
   "language": "python",
   "name": "python3"
  },
  "language_info": {
   "codemirror_mode": {
    "name": "ipython",
    "version": 3
   },
   "file_extension": ".py",
   "mimetype": "text/x-python",
   "name": "python",
   "nbconvert_exporter": "python",
   "pygments_lexer": "ipython3",
   "version": "3.7.4"
  }
 },
 "nbformat": 4,
 "nbformat_minor": 5
}
