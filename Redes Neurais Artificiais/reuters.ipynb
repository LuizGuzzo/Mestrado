{
  "metadata": {
    "kernelspec": {
      "display_name": "Python 3",
      "language": "python",
      "name": "python3"
    },
    "language_info": {
      "name": "python",
      "version": "3.6.6",
      "mimetype": "text/x-python",
      "codemirror_mode": {
        "name": "ipython",
        "version": 3
      },
      "pygments_lexer": "ipython3",
      "nbconvert_exporter": "python",
      "file_extension": ".py"
    },
    "colab": {
      "provenance": []
    }
  },
  "nbformat_minor": 0,
  "nbformat": 4,
  "cells": [
    {
      "cell_type": "markdown",
      "source": [
        "This is an example code from Deep Learning with Python book."
      ],
      "metadata": {
        "_uuid": "7cfbcb31c52eae55bb68944a18a3811abd70243e",
        "id": "GWEigdGTXQA2"
      }
    },
    {
      "cell_type": "code",
      "source": [
        "# This Python 3 environment comes with many helpful analytics libraries installed\n",
        "# It is defined by the kaggle/python docker image: https://github.com/kaggle/docker-python\n",
        "# For example, here's several helpful packages to load in \n",
        "\n",
        "import numpy as np # linear algebra\n",
        "import pandas as pd # data processing, CSV file I/O (e.g. pd.read_csv)\n",
        "from keras.datasets import reuters \n",
        "\n",
        "# load and split data into training set and test set\n",
        "(train_data, train_labels), (test_data, test_labels) = reuters.load_data(num_words=10000)"
      ],
      "metadata": {
        "_uuid": "8f2839f25d086af736a60e9eeb907d3b93b6e0e5",
        "_cell_guid": "b1076dfc-b9ad-4769-8c92-a6c4dae69d19",
        "trusted": true,
        "id": "FFCVqVS_XQA7"
      },
      "execution_count": 57,
      "outputs": []
    },
    {
      "cell_type": "code",
      "source": [
        "# take a look at the data \n",
        "\n",
        "print(f'training set : {train_data.shape}')\n",
        "print(f'test set: {test_data.shape}')\n",
        "print('training set example')\n",
        "print(train_data[0])\n",
        "      "
      ],
      "metadata": {
        "_cell_guid": "79c7e3d0-c299-4dcb-8224-4455121ee9b0",
        "_uuid": "d629ff2d2480ee46fbb7e2d37f6b5fab8052498a",
        "trusted": true,
        "colab": {
          "base_uri": "https://localhost:8080/"
        },
        "id": "Yzh8TuC9XQA9",
        "outputId": "59f55efd-932a-438d-bf81-3b1a19ba56c4"
      },
      "execution_count": 58,
      "outputs": [
        {
          "output_type": "stream",
          "name": "stdout",
          "text": [
            "training set : (8982,)\n",
            "test set: (2246,)\n",
            "training set example\n",
            "[1, 2, 2, 8, 43, 10, 447, 5, 25, 207, 270, 5, 3095, 111, 16, 369, 186, 90, 67, 7, 89, 5, 19, 102, 6, 19, 124, 15, 90, 67, 84, 22, 482, 26, 7, 48, 4, 49, 8, 864, 39, 209, 154, 6, 151, 6, 83, 11, 15, 22, 155, 11, 15, 7, 48, 9, 4579, 1005, 504, 6, 258, 6, 272, 11, 15, 22, 134, 44, 11, 15, 16, 8, 197, 1245, 90, 67, 52, 29, 209, 30, 32, 132, 6, 109, 15, 17, 12]\n"
          ]
        }
      ]
    },
    {
      "cell_type": "markdown",
      "source": [
        " Each example is a list of integers (word indices) . We can change it back into words using **get_word_index()**."
      ],
      "metadata": {
        "_uuid": "d7e565e11d00942ccfb37580c1e886c996f6d51a",
        "id": "BKCBZGCwXQA-"
      }
    },
    {
      "cell_type": "code",
      "source": [
        "word_index = reuters.get_word_index()\n",
        "reverse_word_index = dict(\n",
        "                        [(value,key) for (key, value) in word_index.items()])\n",
        "decoded_newswire = ' '.join([reverse_word_index.get(i - 3, '?') for i in train_data[0]])\n",
        "decoded_newswire"
      ],
      "metadata": {
        "_uuid": "e5fc3a30a1edb51dfa44be7a0f91e7a46f3b7bfa",
        "trusted": true,
        "colab": {
          "base_uri": "https://localhost:8080/",
          "height": 88
        },
        "id": "NdTUV-TvXQA_",
        "outputId": "01aaa938-0237-4fcd-b040-47017510695a"
      },
      "execution_count": 59,
      "outputs": [
        {
          "output_type": "execute_result",
          "data": {
            "text/plain": [
              "'? ? ? said as a result of its december acquisition of space co it expects earnings per share in 1987 of 1 15 to 1 30 dlrs per share up from 70 cts in 1986 the company said pretax net should rise to nine to 10 mln dlrs from six mln dlrs in 1986 and rental operation revenues to 19 to 22 mln dlrs from 12 5 mln dlrs it said cash flow per share this year should be 2 50 to three dlrs reuter 3'"
            ],
            "application/vnd.google.colaboratory.intrinsic+json": {
              "type": "string"
            }
          },
          "metadata": {},
          "execution_count": 59
        }
      ]
    },
    {
      "cell_type": "markdown",
      "source": [
        "`The label associated with an example is an integer between 0 and 45- a topic index."
      ],
      "metadata": {
        "_uuid": "693850aabcb91ab7c16096c106bece6f9cf86a78",
        "id": "tTX8iiesXQA_"
      }
    },
    {
      "cell_type": "code",
      "source": [
        "train_labels[0]"
      ],
      "metadata": {
        "_uuid": "39d4988491771461975c550a376967a7b7fb09cd",
        "trusted": true,
        "colab": {
          "base_uri": "https://localhost:8080/"
        },
        "id": "1Pd8Ugx7XQBA",
        "outputId": "234a9227-942f-4765-bb62-8f94b04f8be8"
      },
      "execution_count": 60,
      "outputs": [
        {
          "output_type": "execute_result",
          "data": {
            "text/plain": [
              "3"
            ]
          },
          "metadata": {},
          "execution_count": 60
        }
      ]
    },
    {
      "cell_type": "markdown",
      "source": [
        "## Preparing the data\n",
        "\n",
        "We are going to vectorize the training data by using integer tensor and the train_label by using one-hot encoding.\n",
        "One-hot encoding is a widely used format for categorical data, also called categorical encoding."
      ],
      "metadata": {
        "_uuid": "39a2de32c35d1c8ef76cc885be81a5518df7de74",
        "id": "vbmqf-b_XQBA"
      }
    },
    {
      "cell_type": "code",
      "source": [
        "def vectorize_sequences(sequences, dimension=10000):\n",
        "    results = np.zeros((len(sequences),dimension))\n",
        "    for i,sequence in enumerate(sequences):\n",
        "        results[i,sequence] = 1\n",
        "    return results\n",
        "\n",
        "x_train = vectorize_sequences(train_data)\n",
        "x_test = vectorize_sequences(test_data)\n",
        "\n",
        "print(f'x_train sample : {x_train[0]}')\n",
        "print(f'x_test sample : {x_test[0]}')\n",
        "    "
      ],
      "metadata": {
        "_uuid": "44fa0474833da3747c5a0e22a4619c131f813fb1",
        "trusted": true,
        "colab": {
          "base_uri": "https://localhost:8080/"
        },
        "id": "yxV4okFlXQBB",
        "outputId": "d6fe864d-ebfc-48a4-b0f4-356e86e0e2f2"
      },
      "execution_count": 61,
      "outputs": [
        {
          "output_type": "stream",
          "name": "stdout",
          "text": [
            "x_train sample : [0. 1. 1. ... 0. 0. 0.]\n",
            "x_test sample : [0. 1. 1. ... 0. 0. 0.]\n"
          ]
        }
      ]
    },
    {
      "cell_type": "code",
      "source": [
        "# one-hot encoding\n",
        "\n",
        "def to_one_hot(labels, dimension=46):\n",
        "    results = np.zeros((len(labels), dimension))\n",
        "    for i,label in enumerate(labels):\n",
        "        results[i,label] = 1\n",
        "    return results\n",
        "\n",
        "# built in keras function for one-hot encoding\n",
        "from keras.utils.np_utils import to_categorical\n",
        "\n",
        "one_hot_train_labels = to_categorical(train_labels)\n",
        "one_hot_test_labels = to_categorical(test_labels)\n",
        "\n",
        "print(f'one_hot_train_labels sample : {one_hot_train_labels[0]}')"
      ],
      "metadata": {
        "_uuid": "1cbe312eb4760c796c850b9a7a4d30282bdbe410",
        "trusted": true,
        "colab": {
          "base_uri": "https://localhost:8080/"
        },
        "id": "nCjQVOnHXQBC",
        "outputId": "b824e64f-42d0-4a77-ca49-a99e54d8b6fa"
      },
      "execution_count": 62,
      "outputs": [
        {
          "output_type": "stream",
          "name": "stdout",
          "text": [
            "one_hot_train_labels sample : [0. 0. 0. 1. 0. 0. 0. 0. 0. 0. 0. 0. 0. 0. 0. 0. 0. 0. 0. 0. 0. 0. 0. 0.\n",
            " 0. 0. 0. 0. 0. 0. 0. 0. 0. 0. 0. 0. 0. 0. 0. 0. 0. 0. 0. 0. 0. 0.]\n"
          ]
        }
      ]
    },
    {
      "cell_type": "markdown",
      "source": [
        "## Building the network\n",
        "\n",
        "   In building the stacks of Dense layers, each layer can only access the information from the previous layer's output .\n",
        "   If one of the layer drops some information regarding the classification, each layer could become information bottleneck.\n",
        "   That's why we are going to use larger layers."
      ],
      "metadata": {
        "_uuid": "2203d6b0ff6040d8b2288d91dadad1126ba48cbb",
        "id": "CpLy_q4YXQBF"
      }
    },
    {
      "cell_type": "code",
      "source": [
        "from keras import models\n",
        "from keras import layers\n",
        "\n",
        "model = models.Sequential()\n",
        "model.add(layers.Dense(64, activation='relu', input_shape=(10000,)))\n",
        "model.add(layers.Dense(64, activation='relu'))\n",
        "model.add(layers.Dense(46, activation='softmax'))\n",
        "\n",
        "model.compile(optimizer='rmsprop',\n",
        "              loss='categorical_crossentropy',\n",
        "              metrics=['accuracy'])"
      ],
      "metadata": {
        "_uuid": "5a4426313b20cd66d04fdeef5818d2dfc1e79f57",
        "trusted": true,
        "id": "uroaGjQ3XQBS"
      },
      "execution_count": 63,
      "outputs": []
    },
    {
      "cell_type": "markdown",
      "source": [
        "## Validating our approach\n",
        "\n",
        "We are going to split the x_train into partial_x_train and x_val. We are going to put 1000 samples from x_train into x_val"
      ],
      "metadata": {
        "_uuid": "8b0c2e9a24303e7a9f11795dc5545aa49702efc0",
        "id": "Or41P7p-XQBU"
      }
    },
    {
      "cell_type": "code",
      "source": [
        "x_val = x_train[:1000]\n",
        "partial_x_train = x_train[1000:]\n",
        "\n",
        "y_val = one_hot_train_labels[:1000]\n",
        "partial_y_train = one_hot_train_labels[1000:]"
      ],
      "metadata": {
        "_uuid": "1c49af2a2d01202283aa03fc87d825053c4320b5",
        "trusted": true,
        "id": "F8aJrhehXQBV"
      },
      "execution_count": 64,
      "outputs": []
    },
    {
      "cell_type": "code",
      "source": [
        "history = model.fit(partial_x_train,\n",
        "                    partial_y_train,\n",
        "                    epochs=20,\n",
        "                    batch_size=512,\n",
        "                    validation_data=(x_val,y_val))"
      ],
      "metadata": {
        "_uuid": "62be00420b5fdcdc175cae2677f47d4f96294541",
        "trusted": true,
        "colab": {
          "base_uri": "https://localhost:8080/"
        },
        "id": "zkDKy7lZXQBY",
        "outputId": "9e04d921-4992-45d2-ae50-3725a63dcdcb"
      },
      "execution_count": 65,
      "outputs": [
        {
          "output_type": "stream",
          "name": "stdout",
          "text": [
            "Epoch 1/20\n",
            "16/16 [==============================] - 2s 65ms/step - loss: 2.8219 - accuracy: 0.4856 - val_loss: 1.9433 - val_accuracy: 0.6080\n",
            "Epoch 2/20\n",
            "16/16 [==============================] - 1s 53ms/step - loss: 1.5995 - accuracy: 0.6619 - val_loss: 1.4152 - val_accuracy: 0.6910\n",
            "Epoch 3/20\n",
            "16/16 [==============================] - 1s 88ms/step - loss: 1.1952 - accuracy: 0.7384 - val_loss: 1.2252 - val_accuracy: 0.7270\n",
            "Epoch 4/20\n",
            "16/16 [==============================] - 1s 84ms/step - loss: 0.9717 - accuracy: 0.7907 - val_loss: 1.1200 - val_accuracy: 0.7620\n",
            "Epoch 5/20\n",
            "16/16 [==============================] - 1s 52ms/step - loss: 0.8103 - accuracy: 0.8237 - val_loss: 1.0194 - val_accuracy: 0.7860\n",
            "Epoch 6/20\n",
            "16/16 [==============================] - 1s 48ms/step - loss: 0.6757 - accuracy: 0.8552 - val_loss: 0.9741 - val_accuracy: 0.7950\n",
            "Epoch 7/20\n",
            "16/16 [==============================] - 1s 50ms/step - loss: 0.5741 - accuracy: 0.8763 - val_loss: 0.9391 - val_accuracy: 0.7950\n",
            "Epoch 8/20\n",
            "16/16 [==============================] - 1s 50ms/step - loss: 0.4781 - accuracy: 0.8989 - val_loss: 0.9236 - val_accuracy: 0.7990\n",
            "Epoch 9/20\n",
            "16/16 [==============================] - 1s 50ms/step - loss: 0.4031 - accuracy: 0.9139 - val_loss: 0.8963 - val_accuracy: 0.8180\n",
            "Epoch 10/20\n",
            "16/16 [==============================] - 1s 50ms/step - loss: 0.3512 - accuracy: 0.9251 - val_loss: 0.8972 - val_accuracy: 0.8180\n",
            "Epoch 11/20\n",
            "16/16 [==============================] - 1s 48ms/step - loss: 0.3026 - accuracy: 0.9344 - val_loss: 0.9267 - val_accuracy: 0.8060\n",
            "Epoch 12/20\n",
            "16/16 [==============================] - 1s 47ms/step - loss: 0.2621 - accuracy: 0.9399 - val_loss: 0.9117 - val_accuracy: 0.8090\n",
            "Epoch 13/20\n",
            "16/16 [==============================] - 1s 48ms/step - loss: 0.2320 - accuracy: 0.9459 - val_loss: 0.9303 - val_accuracy: 0.8150\n",
            "Epoch 14/20\n",
            "16/16 [==============================] - 1s 51ms/step - loss: 0.2134 - accuracy: 0.9490 - val_loss: 0.9279 - val_accuracy: 0.8120\n",
            "Epoch 15/20\n",
            "16/16 [==============================] - 1s 50ms/step - loss: 0.1865 - accuracy: 0.9530 - val_loss: 0.9271 - val_accuracy: 0.8190\n",
            "Epoch 16/20\n",
            "16/16 [==============================] - 1s 49ms/step - loss: 0.1718 - accuracy: 0.9534 - val_loss: 0.9277 - val_accuracy: 0.8120\n",
            "Epoch 17/20\n",
            "16/16 [==============================] - 1s 53ms/step - loss: 0.1642 - accuracy: 0.9540 - val_loss: 0.9275 - val_accuracy: 0.8180\n",
            "Epoch 18/20\n",
            "16/16 [==============================] - 1s 88ms/step - loss: 0.1499 - accuracy: 0.9557 - val_loss: 0.9490 - val_accuracy: 0.8120\n",
            "Epoch 19/20\n",
            "16/16 [==============================] - 1s 83ms/step - loss: 0.1437 - accuracy: 0.9553 - val_loss: 0.9559 - val_accuracy: 0.8140\n",
            "Epoch 20/20\n",
            "16/16 [==============================] - 1s 49ms/step - loss: 0.1394 - accuracy: 0.9550 - val_loss: 1.0089 - val_accuracy: 0.8050\n"
          ]
        }
      ]
    },
    {
      "cell_type": "markdown",
      "source": [
        "## Plotting the Training and Validation Loss"
      ],
      "metadata": {
        "_uuid": "501097cdba644fc6fe66cc306e039eb8672fa3c4",
        "id": "yHUS0VfZXQBa"
      }
    },
    {
      "cell_type": "code",
      "source": [
        "import matplotlib.pyplot as plt\n",
        "\n",
        "loss = history.history['loss']\n",
        "val_loss = history.history['val_loss']\n",
        "\n",
        "epochs = range(1,len(loss) + 1)\n",
        "\n",
        "plt.plot(epochs, loss, 'r', label='Training Loss')\n",
        "plt.plot(epochs, val_loss, 'b', label='Validation Loss')\n",
        "plt.title('Training Loss vs Validation Loss')\n",
        "plt.xlabel('Epochs')\n",
        "plt.ylabel('Loss')\n",
        "plt.legend()\n",
        "plt.show()"
      ],
      "metadata": {
        "_uuid": "f1920c1f6f26ff528e4d07b5a70cb05ca2d4288f",
        "trusted": true,
        "colab": {
          "base_uri": "https://localhost:8080/",
          "height": 472
        },
        "id": "kPxexaISXQBa",
        "outputId": "70193119-a3fc-4862-d69e-08c5a134bace"
      },
      "execution_count": 66,
      "outputs": [
        {
          "output_type": "display_data",
          "data": {
            "text/plain": [
              "<Figure size 640x480 with 1 Axes>"
            ],
            "image/png": "[encoded data removed]"
          },
          "metadata": {}
        }
      ]
    },
    {
      "cell_type": "code",
      "source": [
        "model = models.Sequential()\n",
        "#model.add(layers.Dense(64, activation='relu', input_shape=(10000,)))\n",
        "#model.add(layers.Dense(128, activation='relu'))\n",
        "#model.add(layers.Dense(46, activation='softplus')) # 0.7947\n",
        "\n",
        "#model.add(layers.Dense(64, activation='relu', input_shape=(10000,)))\n",
        "#model.add(layers.Dense(64, activation='relu'))\n",
        "#model.add(layers.Dense(46, activation='softmax')) # 0.7885\n",
        "\n",
        "#model.add(layers.Dense(64, activation='relu', input_shape=(10000,)))\n",
        "#model.add(layers.Dense(128, activation='tanh'))\n",
        "#model.add(layers.Dense(46, activation='softplus')) # 0.7805\n",
        "\n",
        "#model.add(layers.Dense(46, activation='softplus', input_shape=(10000,))) # 0.7961\n",
        "\n",
        "#model.add(layers.Dense(46, activation='softmax', input_shape=(10000,))) # 0.7970\n",
        "\n",
        "#model.add(layers.Dense(46, activation='softmax', input_shape=(10000,))) # 0.7988\n",
        "\n",
        "model.add(layers.Dense(96, activation='relu', input_shape=(10000,)))\n",
        "#model.add(layers.Dense(128, activation='tanh'))\n",
        "model.add(layers.Dense(46, activation='softmax')) # 0.7805\n",
        "\n",
        "\n",
        "model.compile(optimizer='rmsprop',\n",
        "            loss='categorical_crossentropy',\n",
        "            metrics=['accuracy'])\n",
        "model.fit(partial_x_train,\n",
        "            partial_y_train,\n",
        "            epochs=8,\n",
        "            batch_size=128,\n",
        "            validation_data=(x_val, y_val))\n",
        "\n",
        "results = model.evaluate(x_test, one_hot_test_labels)"
      ],
      "metadata": {
        "_uuid": "76b8280fd8bffdcc8b0208614e62388b34157809",
        "trusted": true,
        "colab": {
          "base_uri": "https://localhost:8080/"
        },
        "id": "v1cAAKPoXQBj",
        "outputId": "b42db4a7-f481-4d4f-c1c3-197d7d2cda28"
      },
      "execution_count": 70,
      "outputs": [
        {
          "output_type": "stream",
          "name": "stdout",
          "text": [
            "Epoch 1/8\n",
            "63/63 [==============================] - 3s 43ms/step - loss: 1.6966 - accuracy: 0.6674 - val_loss: 1.1258 - val_accuracy: 0.7480\n",
            "Epoch 2/8\n",
            "63/63 [==============================] - 2s 29ms/step - loss: 0.8468 - accuracy: 0.8230 - val_loss: 0.9155 - val_accuracy: 0.8010\n",
            "Epoch 3/8\n",
            "63/63 [==============================] - 2s 30ms/step - loss: 0.5626 - accuracy: 0.8841 - val_loss: 0.8215 - val_accuracy: 0.8220\n",
            "Epoch 4/8\n",
            "63/63 [==============================] - 1s 20ms/step - loss: 0.3953 - accuracy: 0.9189 - val_loss: 0.7769 - val_accuracy: 0.8370\n",
            "Epoch 5/8\n",
            "63/63 [==============================] - 1s 20ms/step - loss: 0.2953 - accuracy: 0.9374 - val_loss: 0.7809 - val_accuracy: 0.8320\n",
            "Epoch 6/8\n",
            "63/63 [==============================] - 1s 20ms/step - loss: 0.2355 - accuracy: 0.9445 - val_loss: 0.8108 - val_accuracy: 0.8260\n",
            "Epoch 7/8\n",
            "63/63 [==============================] - 1s 20ms/step - loss: 0.1978 - accuracy: 0.9508 - val_loss: 0.8025 - val_accuracy: 0.8380\n",
            "Epoch 8/8\n",
            "63/63 [==============================] - 1s 20ms/step - loss: 0.1768 - accuracy: 0.9534 - val_loss: 0.8026 - val_accuracy: 0.8260\n",
            "71/71 [==============================] - 0s 3ms/step - loss: 0.9093 - accuracy: 0.8001\n"
          ]
        }
      ]
    }
  ]
}