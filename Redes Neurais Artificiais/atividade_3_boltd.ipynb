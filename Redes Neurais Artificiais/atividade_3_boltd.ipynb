{
  "nbformat": 4,
  "nbformat_minor": 0,
  "metadata": {
    "colab": {
      "provenance": []
    },
    "kernelspec": {
      "name": "python3",
      "display_name": "Python 3"
    },
    "language_info": {
      "name": "python"
    }
  },
  "cells": [
    {
      "cell_type": "code",
      "execution_count": 1,
      "metadata": {
        "colab": {
          "base_uri": "https://localhost:8080/"
        },
        "id": "lc_8N8kx_qx1",
        "outputId": "917415a2-a9c5-44e4-cbed-9f0ac0ff5182"
      },
      "outputs": [
        {
          "output_type": "stream",
          "name": "stdout",
          "text": [
            "Epoch 1/5\n",
            "938/938 [==============================] - 66s 68ms/step - loss: 0.1831 - accuracy: 0.9451\n",
            "Epoch 2/5\n",
            "938/938 [==============================] - 57s 61ms/step - loss: 0.0505 - accuracy: 0.9846\n",
            "Epoch 3/5\n",
            "938/938 [==============================] - 57s 61ms/step - loss: 0.0363 - accuracy: 0.9882\n",
            "Epoch 4/5\n",
            "938/938 [==============================] - 58s 62ms/step - loss: 0.0286 - accuracy: 0.9908\n",
            "Epoch 5/5\n",
            "938/938 [==============================] - 57s 61ms/step - loss: 0.0228 - accuracy: 0.9929\n",
            "313/313 [==============================] - 4s 11ms/step - loss: 0.0347 - accuracy: 0.9882\n",
            "Acurácia do teste: 0.9882000088691711\n"
          ]
        }
      ],
      "source": [
        "import gzip\n",
        "import numpy as np\n",
        "import tensorflow as tf\n",
        "from tensorflow.keras import layers, models\n",
        "from tensorflow.keras.utils import to_categorical\n",
        "import urllib.request\n",
        "\n",
        "# Função para ler o arquivo do MNIST\n",
        "def read_mnist(images_path, labels_path):\n",
        "    with gzip.open(labels_path, 'rb') as lbpath:\n",
        "        labels = np.frombuffer(lbpath.read(), dtype=np.uint8, offset=8)\n",
        "\n",
        "    with gzip.open(images_path, 'rb') as imgpath:\n",
        "        images = np.frombuffer(imgpath.read(), dtype=np.uint8, offset=16).reshape(len(labels), 784)\n",
        "\n",
        "    return images, labels\n",
        "\n",
        "# Baixar e ler o conjunto de dados MNIST\n",
        "url_base = 'http://yann.lecun.com/exdb/mnist/'\n",
        "train_images_url = url_base + 'train-images-idx3-ubyte.gz'\n",
        "train_labels_url = url_base + 'train-labels-idx1-ubyte.gz'\n",
        "test_images_url = url_base + 't10k-images-idx3-ubyte.gz'\n",
        "test_labels_url = url_base + 't10k-labels-idx1-ubyte.gz'\n",
        "\n",
        "urllib.request.urlretrieve(train_images_url, 'train-images.gz')\n",
        "urllib.request.urlretrieve(train_labels_url, 'train-labels.gz')\n",
        "urllib.request.urlretrieve(test_images_url, 'test-images.gz')\n",
        "urllib.request.urlretrieve(test_labels_url, 'test-labels.gz')\n",
        "\n",
        "train_images, train_labels = read_mnist('train-images.gz', 'train-labels.gz')\n",
        "test_images, test_labels = read_mnist('test-images.gz', 'test-labels.gz')\n",
        "\n",
        "# Pré-processar os dados\n",
        "train_images = train_images.reshape((60000, 28, 28, 1))\n",
        "train_images = train_images.astype('float32') / 255\n",
        "\n",
        "test_images = test_images.reshape((10000, 28, 28, 1))\n",
        "test_images = test_images.astype('float32') / 255\n",
        "\n",
        "train_labels = to_categorical(train_labels)\n",
        "test_labels = to_categorical(test_labels)\n",
        "\n",
        "# Definir o modelo\n",
        "model = models.Sequential([\n",
        "    layers.Conv2D(32, (3, 3), activation='relu', input_shape=(28, 28, 1)),\n",
        "    layers.MaxPooling2D((2, 2)),\n",
        "    layers.Conv2D(64, (3, 3), activation='relu'),\n",
        "    layers.MaxPooling2D((2, 2)),\n",
        "    layers.Conv2D(64, (3, 3), activation='relu'),\n",
        "    layers.Flatten(),\n",
        "    layers.Dense(64, activation='relu'),\n",
        "    layers.Dense(10, activation='softmax')\n",
        "])\n",
        "\n",
        "# Compilar o modelo\n",
        "model.compile(optimizer='adam',\n",
        "              loss='categorical_crossentropy',\n",
        "              metrics=['accuracy'])\n",
        "\n",
        "# Treinar o modelo\n",
        "model.fit(train_images, train_labels, epochs=5, batch_size=64)\n",
        "\n",
        "# Avaliar o modelo\n",
        "test_loss, test_acc = model.evaluate(test_images, test_labels)\n",
        "print('Acurácia do teste:', test_acc)\n"
      ]
    }
  ]
}