{
 "cells": [
  {
   "cell_type": "code",
   "execution_count": 24,
   "metadata": {},
   "outputs": [],
   "source": [
    "from sklearn.ensemble import ExtraTreesClassifier\n",
    "from sklearn.ensemble import RandomForestClassifier\n",
    "from sklearn.ensemble import VotingClassifier\n",
    "from sklearn.pipeline import Pipeline\n",
    "from sklearn.impute import SimpleImputer\n",
    "from sklearn.preprocessing import OneHotEncoder\n",
    "from sklearn.base import BaseEstimator, TransformerMixin\n",
    "from sklearn.preprocessing import OneHotEncoder\n",
    "from sklearn.impute import SimpleImputer\n",
    "from sklearn.naive_bayes import GaussianNB\n",
    "from sklearn.neighbors import KNeighborsClassifier\n",
    "from sklearn.linear_model import Perceptron\n",
    "from sklearn.model_selection import train_test_split\n",
    "from sklearn.ensemble import StackingClassifier\n",
    "from sklearn.ensemble import AdaBoostClassifier\n",
    "from sklearn.model_selection import GridSearchCV\n",
    "import pandas as pd\n"
   ]
  },
  {
   "cell_type": "code",
   "execution_count": 25,
   "metadata": {},
   "outputs": [],
   "source": [
    "import warnings\n",
    "warnings.filterwarnings('ignore')"
   ]
  },
  {
   "cell_type": "code",
   "execution_count": 26,
   "metadata": {},
   "outputs": [
    {
     "data": {
      "text/plain": [
       "((2011, 9), (2011,))"
      ]
     },
     "execution_count": 26,
     "metadata": {},
     "output_type": "execute_result"
    }
   ],
   "source": [
    "db = pd.read_csv(\"water_potability.csv\")\n",
    "db = db.dropna()\n",
    "X, y = db.iloc[:,:-1].values, db.iloc[:,-1].values\n",
    "\n",
    "# from sklearn.datasets import fetch_olivetti_faces\n",
    "# X, y = fetch_olivetti_faces(return_X_y=True)\n",
    "X.shape, y.shape"
   ]
  },
  {
   "cell_type": "code",
   "execution_count": 27,
   "metadata": {},
   "outputs": [
    {
     "data": {
      "text/plain": [
       "((1508, 9), (503, 9), (1508,), (503,))"
      ]
     },
     "execution_count": 27,
     "metadata": {},
     "output_type": "execute_result"
    }
   ],
   "source": [
    "from sklearn.model_selection import train_test_split\n",
    "X_tr, X_te, y_tr, y_te = train_test_split(X, y, random_state=47)\n",
    "X_tr.shape, X_te.shape, y_tr.shape, y_te.shape"
   ]
  },
  {
   "cell_type": "code",
   "execution_count": 28,
   "metadata": {},
   "outputs": [
    {
     "name": "stdout",
     "output_type": "stream",
     "text": [
      "0.6918489065606361\n"
     ]
    }
   ],
   "source": [
    "\n",
    "modelo = VotingClassifier([  #algoritmos de classificação\n",
    "    ('extratrees', ExtraTreesClassifier(random_state=42)),\n",
    "    ('randomforest', RandomForestClassifier(random_state=42)),\n",
    "    ('AdaBoost',AdaBoostClassifier(random_state=42))\n",
    "    \n",
    "])\n",
    "\n",
    "# modelo.get_params().keys()\n",
    "\n",
    "parametros = {\n",
    "    'extratrees__max_depth': [None,20],\n",
    "    'randomforest__max_depth': [None,20],\n",
    "    'AdaBoost__n_estimators': [10, 50]\n",
    "}\n",
    "\n",
    "modelo = GridSearchCV(modelo, param_grid=parametros)\n",
    "\n",
    "modelo.fit(X_tr, y_tr) \n",
    "sc_pr = modelo.predict(X_te)\n",
    "schits = sc_pr == y_te\n",
    "print(sum(schits)/len(schits))"
   ]
  },
  {
   "cell_type": "code",
   "execution_count": 29,
   "metadata": {},
   "outputs": [
    {
     "name": "stdout",
     "output_type": "stream",
     "text": [
      "0.6322067594433399\n"
     ]
    }
   ],
   "source": [
    "\n",
    "modelo = StackingClassifier([\n",
    "    ('extratrees', ExtraTreesClassifier(random_state=42)),\n",
    "    ('randomforest', RandomForestClassifier(random_state=42)),\n",
    "    ('AdaBoost',AdaBoostClassifier(random_state=42))\n",
    "], cv=3, passthrough=True)\n",
    "\n",
    "parametros = {\n",
    "    'randomforest__max_depth': [None,1,3,5,7],\n",
    "    'randomforest__criterion': ['gini', 'entropy'],\n",
    "    'AdaBoost__n_estimators': [10, 50]\n",
    "}\n",
    "\n",
    "# modelo = GridSearchCV(modelo, param_grid=parametros)\n",
    "\n",
    "modelo.fit(X_tr, y_tr) \n",
    "sc_pr = modelo.predict(X_te)\n",
    "schits = sc_pr == y_te\n",
    "print(sum(schits)/len(schits))"
   ]
  },
  {
   "cell_type": "code",
   "execution_count": null,
   "metadata": {},
   "outputs": [],
   "source": []
  }
 ],
 "metadata": {
  "interpreter": {
   "hash": "1d71d5f4ff41ffcaeb3b8d138d68eb60ecfc5cbf7bce34dee944aca1c71b0f5f"
  },
  "kernelspec": {
   "display_name": "Python 3.6.13 ('patterRecognition')",
   "language": "python",
   "name": "python3"
  },
  "language_info": {
   "codemirror_mode": {
    "name": "ipython",
    "version": 3
   },
   "file_extension": ".py",
   "mimetype": "text/x-python",
   "name": "python",
   "nbconvert_exporter": "python",
   "pygments_lexer": "ipython3",
   "version": "3.6.13"
  },
  "orig_nbformat": 4
 },
 "nbformat": 4,
 "nbformat_minor": 2
}
