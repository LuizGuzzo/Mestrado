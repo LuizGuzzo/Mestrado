{
  "cells": [
    {
      "cell_type": "code",
      "execution_count": 1,
      "metadata": {},
      "outputs": [
        {
          "data": {
            "text/html": [
              "<div>\n",
              "<style scoped>\n",
              "    .dataframe tbody tr th:only-of-type {\n",
              "        vertical-align: middle;\n",
              "    }\n",
              "\n",
              "    .dataframe tbody tr th {\n",
              "        vertical-align: top;\n",
              "    }\n",
              "\n",
              "    .dataframe thead th {\n",
              "        text-align: right;\n",
              "    }\n",
              "</style>\n",
              "<table border=\"1\" class=\"dataframe\">\n",
              "  <thead>\n",
              "    <tr style=\"text-align: right;\">\n",
              "      <th></th>\n",
              "      <th>ph</th>\n",
              "      <th>Hardness</th>\n",
              "      <th>Solids</th>\n",
              "      <th>Chloramines</th>\n",
              "      <th>Sulfate</th>\n",
              "      <th>Conductivity</th>\n",
              "      <th>Organic_carbon</th>\n",
              "      <th>Trihalomethanes</th>\n",
              "      <th>Turbidity</th>\n",
              "      <th>Potability</th>\n",
              "    </tr>\n",
              "  </thead>\n",
              "  <tbody>\n",
              "    <tr>\n",
              "      <th>0</th>\n",
              "      <td>NaN</td>\n",
              "      <td>204.890455</td>\n",
              "      <td>20791.318981</td>\n",
              "      <td>7.300212</td>\n",
              "      <td>368.516441</td>\n",
              "      <td>564.308654</td>\n",
              "      <td>10.379783</td>\n",
              "      <td>86.990970</td>\n",
              "      <td>2.963135</td>\n",
              "      <td>0</td>\n",
              "    </tr>\n",
              "    <tr>\n",
              "      <th>1</th>\n",
              "      <td>3.716080</td>\n",
              "      <td>129.422921</td>\n",
              "      <td>18630.057858</td>\n",
              "      <td>6.635246</td>\n",
              "      <td>NaN</td>\n",
              "      <td>592.885359</td>\n",
              "      <td>15.180013</td>\n",
              "      <td>56.329076</td>\n",
              "      <td>4.500656</td>\n",
              "      <td>0</td>\n",
              "    </tr>\n",
              "    <tr>\n",
              "      <th>2</th>\n",
              "      <td>8.099124</td>\n",
              "      <td>224.236259</td>\n",
              "      <td>19909.541732</td>\n",
              "      <td>9.275884</td>\n",
              "      <td>NaN</td>\n",
              "      <td>418.606213</td>\n",
              "      <td>16.868637</td>\n",
              "      <td>66.420093</td>\n",
              "      <td>3.055934</td>\n",
              "      <td>0</td>\n",
              "    </tr>\n",
              "    <tr>\n",
              "      <th>3</th>\n",
              "      <td>8.316766</td>\n",
              "      <td>214.373394</td>\n",
              "      <td>22018.417441</td>\n",
              "      <td>8.059332</td>\n",
              "      <td>356.886136</td>\n",
              "      <td>363.266516</td>\n",
              "      <td>18.436524</td>\n",
              "      <td>100.341674</td>\n",
              "      <td>4.628771</td>\n",
              "      <td>0</td>\n",
              "    </tr>\n",
              "    <tr>\n",
              "      <th>4</th>\n",
              "      <td>9.092223</td>\n",
              "      <td>181.101509</td>\n",
              "      <td>17978.986339</td>\n",
              "      <td>6.546600</td>\n",
              "      <td>310.135738</td>\n",
              "      <td>398.410813</td>\n",
              "      <td>11.558279</td>\n",
              "      <td>31.997993</td>\n",
              "      <td>4.075075</td>\n",
              "      <td>0</td>\n",
              "    </tr>\n",
              "  </tbody>\n",
              "</table>\n",
              "</div>"
            ],
            "text/plain": [
              "         ph    Hardness        Solids  Chloramines     Sulfate  Conductivity  \\\n",
              "0       NaN  204.890455  20791.318981     7.300212  368.516441    564.308654   \n",
              "1  3.716080  129.422921  18630.057858     6.635246         NaN    592.885359   \n",
              "2  8.099124  224.236259  19909.541732     9.275884         NaN    418.606213   \n",
              "3  8.316766  214.373394  22018.417441     8.059332  356.886136    363.266516   \n",
              "4  9.092223  181.101509  17978.986339     6.546600  310.135738    398.410813   \n",
              "\n",
              "   Organic_carbon  Trihalomethanes  Turbidity  Potability  \n",
              "0       10.379783        86.990970   2.963135           0  \n",
              "1       15.180013        56.329076   4.500656           0  \n",
              "2       16.868637        66.420093   3.055934           0  \n",
              "3       18.436524       100.341674   4.628771           0  \n",
              "4       11.558279        31.997993   4.075075           0  "
            ]
          },
          "execution_count": 1,
          "metadata": {},
          "output_type": "execute_result"
        }
      ],
      "source": [
        "import numpy as np\n",
        "import pandas as pd\n",
        "\n",
        "db = pd.read_csv(\"water_potability.csv\")\n",
        "db.head()"
      ]
    },
    {
      "cell_type": "code",
      "execution_count": 2,
      "metadata": {},
      "outputs": [
        {
          "data": {
            "text/plain": [
              "((2011, 9), (2011,))"
            ]
          },
          "execution_count": 2,
          "metadata": {},
          "output_type": "execute_result"
        }
      ],
      "source": [
        "db = db.dropna()\n",
        "data = db.copy()\n",
        "\n",
        "y = data.Potability\n",
        "X = db.drop(columns=['Potability'])  \n",
        "\n",
        "\n",
        "X.shape, y.shape"
      ]
    },
    {
      "cell_type": "markdown",
      "metadata": {},
      "source": [
        "Escolha uma base de classificação e compare os classificadores Logistic Regression e KNN do scikit-learn.\n",
        "\n",
        "Use pelo menos duas formas de avaliação e as repita pelo menos 10 vezes.\n",
        "\n",
        "Calcule a média das repetições de cada avaliação."
      ]
    },
    {
      "cell_type": "code",
      "execution_count": 3,
      "metadata": {
        "id": "5E_G8obrEq97"
      },
      "outputs": [],
      "source": [
        "from sklearn.linear_model import LogisticRegression\n",
        "from sklearn.neighbors import KNeighborsRegressor\n",
        "\n",
        "LR = LogisticRegression()\n",
        "KNN = KNeighborsRegressor()\n",
        "\n",
        "from sklearn.metrics import precision_score, accuracy_score # classification metrics\n",
        "from sklearn.model_selection import train_test_split\n",
        "from sklearn.preprocessing import StandardScaler\n",
        "\n",
        "scaler = StandardScaler()\n",
        "X_new = scaler.fit_transform(X) # estratificaçao? (no caso eu fiz do banco todo oq é errado por conta do vies q vem junto)"
      ]
    },
    {
      "cell_type": "code",
      "execution_count": 4,
      "metadata": {},
      "outputs": [
        {
          "name": "stdout",
          "output_type": "stream",
          "text": [
            "Logistic Regression Acuracia : [0.5927152317880795, 0.5794701986754967, 0.5811258278145696, 0.6109271523178808, 0.6125827814569537, 0.5877483443708609, 0.5811258278145696, 0.6009933774834437, 0.6142384105960265, 0.5894039735099338]\n",
            "Logistic Regression Precisão : [0.7777777777777778, 0.5, 0.375, 0.16666666666666666, 0.0, 0.25, 1.0, 1.0, 0.5, 0.875]\n",
            "Media Logistic Regression Acuracia : 0.5950331125827815\n",
            "Media Logistic Regression Precisão : 0.5444444444444445\n"
          ]
        },
        {
          "name": "stderr",
          "output_type": "stream",
          "text": [
            "c:\\Users\\luizg\\Anaconda3\\envs\\patterRecognition\\lib\\site-packages\\sklearn\\metrics\\_classification.py:1221: UndefinedMetricWarning: Precision is ill-defined and being set to 0.0 due to no predicted samples. Use `zero_division` parameter to control this behavior.\n",
            "  _warn_prf(average, modifier, msg_start, len(result))\n"
          ]
        }
      ],
      "source": [
        "precision_lr = []\n",
        "accuracy_lr = []\n",
        "\n",
        "for i in range(10):\n",
        "\t\n",
        "\tX_tr,X_te,y_tr,y_te = train_test_split(X_new,y,test_size=0.3)#,random_state=42)\n",
        "\n",
        "\tmodel = LR.fit(X_tr,y_tr)\n",
        "\tpredictions = LR.predict(X_te)\n",
        "\t\n",
        "\tprecision = precision_score(y_te,predictions)\n",
        "\taccuracy = accuracy_score(y_te,predictions)\n",
        "\n",
        "\t# print(\"prec:\",precision)\n",
        "\t# print(\"acc:\",accuracy)\n",
        "\n",
        "\tprecision_lr.append(precision)\n",
        "\taccuracy_lr.append(accuracy)\n",
        "\t\n",
        "print('Logistic Regression Acuracia :' , accuracy_lr)\n",
        "print('Logistic Regression Precisão :' , precision_lr)\n",
        "\n",
        "print('Media Logistic Regression Acuracia :' , np.mean(accuracy_lr))\n",
        "print('Media Logistic Regression Precisão :' , np.mean(precision_lr)) # porque tao ruim??"
      ]
    },
    {
      "cell_type": "code",
      "execution_count": 5,
      "metadata": {},
      "outputs": [
        {
          "name": "stdout",
          "output_type": "stream",
          "text": [
            "K-NN Acuracia : [0.6009933774834437, 0.6175496688741722, 0.6390728476821192, 0.5910596026490066, 0.5927152317880795, 0.6208609271523179, 0.6456953642384106, 0.6158940397350994, 0.5943708609271523, 0.597682119205298]\n",
            "K-NN Precisão : [0.5384615384615384, 0.7857142857142857, 0.8125, 0.9, 0.5555555555555556, 0.8333333333333334, 0.8571428571428571, 0.75, 0.875, 0.7692307692307693]\n",
            "Media K-NN Acuracia : 0.6115894039735099\n",
            "Media K-NN Precisão : 0.767693833943834\n"
          ]
        }
      ],
      "source": [
        "precision_knn = []\n",
        "accuracy_knn = []\n",
        "\n",
        "for i in range(10):\n",
        "\t\n",
        "\tX_tr,X_te,y_tr,y_te = train_test_split(X_new,y,test_size=0.3)\n",
        "\n",
        "\tmodel = KNN.fit(X_tr,y_tr)\n",
        "\tpredictions = KNN.predict(X_te).astype(int)\n",
        "\n",
        "\t# print(y_te)\n",
        "\t# print(predictions)\n",
        "\t\n",
        "\tprecision = precision_score(y_te,predictions)\n",
        "\taccuracy = accuracy_score(y_te,predictions)\n",
        "\n",
        "\t# print(\"prec:\",precision)\n",
        "\t# print(\"acc:\",accuracy)\n",
        "\n",
        "\tprecision_knn.append(precision)\n",
        "\taccuracy_knn.append(accuracy)\n",
        "\t\n",
        "print('K-NN Acuracia :' , accuracy_knn)\n",
        "print('K-NN Precisão :' , precision_knn)\n",
        "\n",
        "print('Media K-NN Acuracia :' , np.mean(accuracy_knn))\n",
        "print('Media K-NN Precisão :' , np.mean(precision_knn))"
      ]
    },
    {
      "cell_type": "code",
      "execution_count": 6,
      "metadata": {},
      "outputs": [],
      "source": [
        "from sklearn.model_selection import GridSearchCV\n",
        "from sklearn.pipeline import Pipeline\n",
        "\n",
        "LR_ss = Pipeline([\n",
        "    (\"pad\", StandardScaler()), #padronizando\n",
        "    (\"class\", LogisticRegression())\n",
        "])\n",
        "\n",
        "parametros = {'n_neighbors': [3, 7, 9]}\n",
        "grid_search_knn = GridSearchCV(\n",
        "    KNeighborsRegressor(),\n",
        "    parametros\n",
        "    )\n",
        "gsKNN_ss = Pipeline([\n",
        "    (\"pad\", StandardScaler()), #padronizando\n",
        "    (\"gs_knn\", grid_search_knn)\n",
        "    ])"
      ]
    },
    {
      "cell_type": "code",
      "execution_count": 7,
      "metadata": {},
      "outputs": [
        {
          "name": "stdout",
          "output_type": "stream",
          "text": [
            "Logistic Regression SS Acuracia : [0.5877483443708609, 0.5943708609271523, 0.6043046357615894, 0.6043046357615894, 0.6009933774834437, 0.6307947019867549, 0.5844370860927153, 0.5778145695364238, 0.5877483443708609, 0.6026490066225165]\n",
            "Logistic Regression SS Precisão : [0.0, 1.0, 0.7, 0.6666666666666666, 0.625, 0.5185185185185185, 0.0, 0.25, 0.0, 0.6666666666666666]\n",
            "Media Logistic Regression SS Acuracia : 0.5975165562913908\n",
            "Media Logistic Regression SS Precisão : 0.44268518518518524\n"
          ]
        },
        {
          "name": "stderr",
          "output_type": "stream",
          "text": [
            "c:\\Users\\luizg\\Anaconda3\\envs\\patterRecognition\\lib\\site-packages\\sklearn\\metrics\\_classification.py:1221: UndefinedMetricWarning: Precision is ill-defined and being set to 0.0 due to no predicted samples. Use `zero_division` parameter to control this behavior.\n",
            "  _warn_prf(average, modifier, msg_start, len(result))\n",
            "c:\\Users\\luizg\\Anaconda3\\envs\\patterRecognition\\lib\\site-packages\\sklearn\\metrics\\_classification.py:1221: UndefinedMetricWarning: Precision is ill-defined and being set to 0.0 due to no predicted samples. Use `zero_division` parameter to control this behavior.\n",
            "  _warn_prf(average, modifier, msg_start, len(result))\n",
            "c:\\Users\\luizg\\Anaconda3\\envs\\patterRecognition\\lib\\site-packages\\sklearn\\metrics\\_classification.py:1221: UndefinedMetricWarning: Precision is ill-defined and being set to 0.0 due to no predicted samples. Use `zero_division` parameter to control this behavior.\n",
            "  _warn_prf(average, modifier, msg_start, len(result))\n"
          ]
        }
      ],
      "source": [
        "#repetindo codigo\n",
        "precision_LR_ss = []\n",
        "accuracy_LR_ss = []\n",
        "\n",
        "for i in range(10):\n",
        "\t\n",
        "\tX_tr,X_te,y_tr,y_te = train_test_split(X_new,y,test_size=0.3)#,random_state=42)\n",
        "\n",
        "\tmodel = LR_ss.fit(X_tr,y_tr)\n",
        "\tpredictions = LR_ss.predict(X_te)\n",
        "\t\n",
        "\tprecision = precision_score(y_te,predictions)\n",
        "\taccuracy = accuracy_score(y_te,predictions)\n",
        "\n",
        "\t# print(\"prec:\",precision)\n",
        "\t# print(\"acc:\",accuracy)\n",
        "\n",
        "\tprecision_LR_ss.append(precision)\n",
        "\taccuracy_LR_ss.append(accuracy)\n",
        "\t\n",
        "print('Logistic Regression SS Acuracia :' , accuracy_LR_ss)\n",
        "print('Logistic Regression SS Precisão :' , precision_LR_ss)\n",
        "\n",
        "print('Media Logistic Regression SS Acuracia :' , np.mean(accuracy_LR_ss))\n",
        "print('Media Logistic Regression SS Precisão :' , np.mean(precision_LR_ss)) # porque tao ruim??"
      ]
    },
    {
      "cell_type": "code",
      "execution_count": 8,
      "metadata": {},
      "outputs": [
        {
          "name": "stderr",
          "output_type": "stream",
          "text": [
            "c:\\Users\\luizg\\Anaconda3\\envs\\patterRecognition\\lib\\site-packages\\sklearn\\metrics\\_classification.py:1221: UndefinedMetricWarning: Precision is ill-defined and being set to 0.0 due to no predicted samples. Use `zero_division` parameter to control this behavior.\n",
            "  _warn_prf(average, modifier, msg_start, len(result))\n",
            "c:\\Users\\luizg\\Anaconda3\\envs\\patterRecognition\\lib\\site-packages\\sklearn\\metrics\\_classification.py:1221: UndefinedMetricWarning: Precision is ill-defined and being set to 0.0 due to no predicted samples. Use `zero_division` parameter to control this behavior.\n",
            "  _warn_prf(average, modifier, msg_start, len(result))\n",
            "c:\\Users\\luizg\\Anaconda3\\envs\\patterRecognition\\lib\\site-packages\\sklearn\\metrics\\_classification.py:1221: UndefinedMetricWarning: Precision is ill-defined and being set to 0.0 due to no predicted samples. Use `zero_division` parameter to control this behavior.\n",
            "  _warn_prf(average, modifier, msg_start, len(result))\n"
          ]
        },
        {
          "name": "stdout",
          "output_type": "stream",
          "text": [
            "GS K-NN SS Acuracia : [0.6026490066225165, 0.6241721854304636, 0.5811258278145696, 0.6026490066225165, 0.5811258278145696, 0.5960264900662252, 0.6192052980132451, 0.6158940397350994, 0.5927152317880795, 0.6274834437086093]\n",
            "GS K-NN SS Precisão : [0.0, 1.0, 1.0, 1.0, 1.0, 1.0, 0.0, 1.0, 0.0, 0.0]\n",
            "Media GS K-NN SS Acuracia : 0.6043046357615893\n",
            "Media GS K-NN SS Precisão : 0.6\n"
          ]
        },
        {
          "name": "stderr",
          "output_type": "stream",
          "text": [
            "c:\\Users\\luizg\\Anaconda3\\envs\\patterRecognition\\lib\\site-packages\\sklearn\\metrics\\_classification.py:1221: UndefinedMetricWarning: Precision is ill-defined and being set to 0.0 due to no predicted samples. Use `zero_division` parameter to control this behavior.\n",
            "  _warn_prf(average, modifier, msg_start, len(result))\n"
          ]
        }
      ],
      "source": [
        "#repetindo codigo\n",
        "precision_gsKNN_ss = []\n",
        "accuracy_gsKNN_ss = []\n",
        "\n",
        "for i in range(10):\n",
        "\t\n",
        "\tX_tr,X_te,y_tr,y_te = train_test_split(X_new,y,test_size=0.3)\n",
        "\n",
        "\tmodel = gsKNN_ss.fit(X_tr,y_tr)\n",
        "\tpredictions = gsKNN_ss.predict(X_te).astype(int)\n",
        "\n",
        "\t# print(y_te)\n",
        "\t# print(predictions)\n",
        "\t\n",
        "\tprecision = precision_score(y_te,predictions)\n",
        "\taccuracy = accuracy_score(y_te,predictions)\n",
        "\n",
        "\t# print(\"prec:\",precision)\n",
        "\t# print(\"acc:\",accuracy)\n",
        "\n",
        "\tprecision_gsKNN_ss.append(precision)\n",
        "\taccuracy_gsKNN_ss.append(accuracy)\n",
        "\t\n",
        "print('GS K-NN SS Acuracia :' , accuracy_gsKNN_ss)\n",
        "print('GS K-NN SS Precisão :' , precision_gsKNN_ss)\n",
        "\n",
        "print('Media GS K-NN SS Acuracia :' , np.mean(accuracy_gsKNN_ss))\n",
        "print('Media GS K-NN SS Precisão :' , np.mean(precision_gsKNN_ss))"
      ]
    }
  ],
  "metadata": {
    "colab": {
      "name": "Atividade4.ipynb",
      "provenance": []
    },
    "interpreter": {
      "hash": "1d71d5f4ff41ffcaeb3b8d138d68eb60ecfc5cbf7bce34dee944aca1c71b0f5f"
    },
    "kernelspec": {
      "display_name": "Python 3.6.13 ('patterRecognition')",
      "language": "python",
      "name": "python3"
    },
    "language_info": {
      "codemirror_mode": {
        "name": "ipython",
        "version": 3
      },
      "file_extension": ".py",
      "mimetype": "text/x-python",
      "name": "python",
      "nbconvert_exporter": "python",
      "pygments_lexer": "ipython3",
      "version": "3.6.13"
    }
  },
  "nbformat": 4,
  "nbformat_minor": 0
}
