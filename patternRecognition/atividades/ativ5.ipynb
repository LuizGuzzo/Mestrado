{
 "cells": [
  {
   "cell_type": "markdown",
   "metadata": {},
   "source": [
    "# Árvore para atributos contínuos"
   ]
  },
  {
   "cell_type": "code",
   "execution_count": 1,
   "metadata": {},
   "outputs": [],
   "source": [
    "from sklearn.datasets import load_iris\n",
    "from sklearn.metrics import accuracy_score\n",
    "from sklearn.tree import DecisionTreeClassifier\n",
    "import pandas as pd\n",
    "from sklearn.model_selection import cross_validate\n",
    "import numpy as np\n",
    "import matplotlib.pyplot as plt\n",
    "from collections import Counter\n",
    "from sklearn.base import BaseEstimator, ClassifierMixin\n",
    "from sklearn.datasets import load_iris\n",
    "iris = load_iris()\n",
    "X, y = iris.data[:,2:], iris.target"
   ]
  },
  {
   "cell_type": "markdown",
   "metadata": {},
   "source": [
    "# Calculo de Impureza (customizavel)"
   ]
  },
  {
   "cell_type": "code",
   "execution_count": 2,
   "metadata": {},
   "outputs": [
    {
     "name": "stdout",
     "output_type": "stream",
     "text": [
      "valor:  0.6666666666666667\n",
      "valorEntropy:  1.584962500721156\n"
     ]
    }
   ],
   "source": [
    "#Gini\n",
    "def impurezaGini(y): #Gini\n",
    "    labels = list(set(y))\n",
    "    labels.sort()\n",
    "    probabilidades = np.zeros((len(labels),))\n",
    "    for i,k in enumerate(labels):\n",
    "        probabilidades[i] = sum(y==k)/len(y)\n",
    "    result = 1 - sum(probabilidades**2)\n",
    "    return result\n",
    "\n",
    "#Entropy\n",
    "def impurezaEntropia(y): # https://quantdare.com/decision-trees-gini-vs-entropy/\n",
    "    labels = list(set(y))\n",
    "    labels.sort()\n",
    "    probabilidades = np.zeros((len(labels),))\n",
    "    for i,k in enumerate(labels):\n",
    "        probabilidades[i] = sum(y==k)/len(y)\n",
    "    result = - sum(probabilidades * np.log2(probabilidades))\n",
    "    return result\n",
    "\n",
    "def impureza(y,isGini=True): #alterar o True para False, para ir no Entropy\n",
    "    if isGini is True:\n",
    "        return impurezaGini(y)\n",
    "    else:\n",
    "        return impurezaEntropia(y)\n",
    "        \n",
    "ytmp = y[:]\n",
    "valor = impureza(ytmp,True)\n",
    "print(\"valor: \",valor)\n",
    "valor = impureza(ytmp,False)\n",
    "print(\"valorEntropy: \",valor)"
   ]
  },
  {
   "cell_type": "markdown",
   "metadata": {},
   "source": [
    "# Arvore do Video"
   ]
  },
  {
   "cell_type": "code",
   "execution_count": 3,
   "metadata": {},
   "outputs": [
    {
     "name": "stdout",
     "output_type": "stream",
     "text": [
      "(0.3333333333333333, 0.5, 0.0)\n",
      "(2.475, 0.3333333333333333)\n",
      "(0, 2.475, 0.3333333333333333)\n"
     ]
    }
   ],
   "source": [
    "from sklearn.metrics import accuracy_score\n",
    "import numpy as np\n",
    "from collections import Counter\n",
    "from sklearn.base import BaseEstimator, ClassifierMixin\n",
    "\n",
    "def impurezaValor(x, y, valor):\n",
    "    maiores = x>valor\n",
    "    impurezaMaiores = impureza(y[maiores])\n",
    "    propMaiores = sum(maiores)/len(y)\n",
    "    impurezaMenores = impureza(y[~maiores])\n",
    "    propMenores = sum(~maiores)/len(y)\n",
    "    impurezaTotal = propMaiores*impurezaMaiores + propMenores*impurezaMenores\n",
    "    return impurezaTotal, impurezaMaiores, impurezaMenores\n",
    "\n",
    "def melhorValor(x, y):\n",
    "    result = None\n",
    "    menorImpureza = float('inf')\n",
    "    xmax = np.max(x)\n",
    "    xmin = np.min(x)\n",
    "    while True:\n",
    "        valor = (xmin+xmax)/2\n",
    "        impTotal, impMaiores, impMenores = impurezaValor(x, y, valor)\n",
    "        if impTotal < menorImpureza:\n",
    "            menorImpureza = impTotal\n",
    "            result = valor\n",
    "            if impMaiores == 0 or impMenores == 0:\n",
    "                break\n",
    "            if impMaiores < impMenores:\n",
    "                xmin = valor\n",
    "            else:\n",
    "                xmax = valor\n",
    "        else:\n",
    "            break\n",
    "    return result, menorImpureza\n",
    "    \n",
    "\n",
    "def melhorCaracteristica(X, y):\n",
    "    impurezas = []\n",
    "    valores = []\n",
    "    for caracteristica in range(X.shape[1]):\n",
    "        valor, imp = melhorValor(X[:,caracteristica], y)\n",
    "        impurezas.append(imp)\n",
    "        valores.append(valor)\n",
    "    impurezas = np.array(impurezas)\n",
    "    caracteristica = np.argmin(impurezas)\n",
    "    return caracteristica, valores[caracteristica], impurezas[caracteristica]\n",
    "    \n",
    "\n",
    "def maisFrequente(y):\n",
    "    return Counter(y.flat).most_common(1)[0][0]\n",
    "\n",
    "class Arvore(BaseEstimator, ClassifierMixin):\n",
    "    def fit(self, X, y):\n",
    "        self.caracteristica, self.valor, self.imp = melhorCaracteristica(X,y)\n",
    "        maiores = X[:,self.caracteristica] > self.valor\n",
    "        if sum(maiores)>0 and sum(~maiores)>0:\n",
    "            self.maiores = Arvore()\n",
    "            self.maiores.fit(X[maiores,:],y[maiores])\n",
    "            self.menores = Arvore()\n",
    "            self.menores.fit(X[~maiores,:],y[~maiores])\n",
    "        else:\n",
    "            self.resposta = maisFrequente(y)\n",
    "    def predict(self, X):\n",
    "        y = np.empty((X.shape[0]))\n",
    "        if hasattr(self, 'resposta'):\n",
    "            y[:] = self.resposta\n",
    "        else:\n",
    "            maiores = X[:,self.caracteristica] > self.valor\n",
    "            y[maiores] = self.maiores.predict(X[maiores,:])\n",
    "            y[~maiores] = self.menores.predict(X[~maiores,:])\n",
    "        return y\n",
    "\n",
    "print(impurezaValor(X[:,0], y, 2.5))\n",
    "print(melhorValor(X[:,0], y))\n",
    "print(melhorCaracteristica(X,y))"
   ]
  },
  {
   "cell_type": "markdown",
   "metadata": {},
   "source": [
    "# Arvore Alterada"
   ]
  },
  {
   "cell_type": "code",
   "execution_count": 4,
   "metadata": {},
   "outputs": [],
   "source": [
    "def piorValor(x, y): #posso considerar isso uma heuristica? pegar a maior impureza\n",
    "    result = None\n",
    "    maiorImpureza = float('-inf')\n",
    "    xmax = np.max(x)\n",
    "    xmin = np.min(x)\n",
    "    while True:\n",
    "        valor = (xmin+xmax)/2\n",
    "        impTotal, impMaiores, impMenores = impurezaValor(x, y, valor)\n",
    "        if impTotal > maiorImpureza:\n",
    "            maiorImpureza = impTotal\n",
    "            result = valor\n",
    "            if impMaiores == 0 or impMenores == 0:\n",
    "                break\n",
    "            if impMaiores > impMenores:\n",
    "                xmin = valor\n",
    "            else:\n",
    "                xmax = valor\n",
    "        else:\n",
    "            break\n",
    "    return result, maiorImpureza\n",
    "    \n",
    "\n",
    "def piorCaracteristica(X, y):\n",
    "    impurezas = []\n",
    "    valores = []\n",
    "    for caracteristica in range(X.shape[1]):\n",
    "        valor, imp = piorValor(X[:,caracteristica], y)\n",
    "        impurezas.append(imp)\n",
    "        valores.append(valor)\n",
    "    impurezas = np.array(impurezas)\n",
    "    caracteristica = np.argmin(impurezas)\n",
    "    return caracteristica, valores[caracteristica], impurezas[caracteristica]\n",
    "\n",
    "class ArvoreAlterada(BaseEstimator, ClassifierMixin):\n",
    "    def fit(self, X, y):\n",
    "        self.caracteristica, self.valor, self.imp = piorCaracteristica(X,y)\n",
    "        maiores = X[:,self.caracteristica] > self.valor\n",
    "        if sum(maiores)>0 and sum(~maiores)>0:\n",
    "            self.maiores = ArvoreAlterada()\n",
    "            self.maiores.fit(X[maiores,:],y[maiores])\n",
    "            self.menores = ArvoreAlterada()\n",
    "            self.menores.fit(X[~maiores,:],y[~maiores])\n",
    "        else:\n",
    "            self.resposta = maisFrequente(y)\n",
    "    def predict(self, X):\n",
    "        y = np.empty((X.shape[0]))\n",
    "        if hasattr(self, 'resposta'):\n",
    "            y[:] = self.resposta\n",
    "        else:\n",
    "            maiores = X[:,self.caracteristica] > self.valor\n",
    "            y[maiores] = self.maiores.predict(X[maiores,:])\n",
    "            y[~maiores] = self.menores.predict(X[~maiores,:])\n",
    "        return y"
   ]
  },
  {
   "cell_type": "code",
   "execution_count": 5,
   "metadata": {},
   "outputs": [
    {
     "data": {
      "image/png": "[encoded data removed]",
      "text/plain": [
       "<Figure size 432x288 with 1 Axes>"
      ]
     },
     "metadata": {
      "needs_background": "light"
     },
     "output_type": "display_data"
    },
    {
     "data": {
      "image/png": "[encoded data removed]",
      "text/plain": [
       "<Figure size 432x288 with 1 Axes>"
      ]
     },
     "metadata": {
      "needs_background": "light"
     },
     "output_type": "display_data"
    },
    {
     "data": {
      "image/png": "[encoded data removed]",
      "text/plain": [
       "<Figure size 432x288 with 1 Axes>"
      ]
     },
     "metadata": {
      "needs_background": "light"
     },
     "output_type": "display_data"
    }
   ],
   "source": [
    "def plotDecisao(modelo, X, y):\n",
    "    modelo.fit(X, y)\n",
    "    x0s = np.linspace(np.min(X[:,0])-0.2, np.max(X[:,0])+0.2, 100)\n",
    "    x1s = np.linspace(np.min(X[:,1])-0.2, np.max(X[:,1])+0.2, 100)\n",
    "    x0, x1 = np.meshgrid(x0s, x1s)\n",
    "    Xdec = np.c_[x0.ravel(), x1.ravel()]\n",
    "    ypred = modelo.predict(Xdec)\n",
    "    plt.contourf(x0, x1, ypred.reshape(x0.shape), alpha=0.25)\n",
    "    for k in set(y):\n",
    "        plt.plot(X[:,0][y==k], X[:,1][y==k], 'o', label=f\"{iris.target_names[k]} [{k}]\")\n",
    "    plt.xlabel(f\"X[0]: {iris.feature_names[0]}\")\n",
    "    plt.ylabel(f\"X[1]: {iris.feature_names[1]}\")\n",
    "    plt.show()\n",
    "\n",
    "\n",
    "plotDecisao(Arvore(), X, y)\n",
    "plotDecisao(ArvoreAlterada(), X, y)\n",
    "plotDecisao(DecisionTreeClassifier(), X, y)"
   ]
  },
  {
   "cell_type": "code",
   "execution_count": 6,
   "metadata": {},
   "outputs": [
    {
     "name": "stderr",
     "output_type": "stream",
     "text": [
      "C:\\Users\\luizg\\Anaconda3\\lib\\site-packages\\sklearn\\model_selection\\_split.py:1978: FutureWarning: The default value of cv will change from 3 to 5 in version 0.22. Specify it explicitly to silence this warning.\n",
      "  warnings.warn(CV_WARNING, FutureWarning)\n",
      "C:\\Users\\luizg\\Anaconda3\\lib\\site-packages\\sklearn\\model_selection\\_split.py:1978: FutureWarning: The default value of cv will change from 3 to 5 in version 0.22. Specify it explicitly to silence this warning.\n",
      "  warnings.warn(CV_WARNING, FutureWarning)\n"
     ]
    },
    {
     "name": "stdout",
     "output_type": "stream",
     "text": [
      "Video: [0.98039216 0.94117647 0.95833333] 0.9599673202614379\n",
      "Alterada: [0.98039216 0.92156863 0.9375    ] 0.9464869281045751\n",
      "sklearn: [0.98039216 0.92156863 0.97916667] 0.960375816993464\n"
     ]
    },
    {
     "name": "stderr",
     "output_type": "stream",
     "text": [
      "C:\\Users\\luizg\\Anaconda3\\lib\\site-packages\\sklearn\\model_selection\\_split.py:1978: FutureWarning: The default value of cv will change from 3 to 5 in version 0.22. Specify it explicitly to silence this warning.\n",
      "  warnings.warn(CV_WARNING, FutureWarning)\n"
     ]
    }
   ],
   "source": [
    "from sklearn.model_selection import cross_validate\n",
    "scores = cross_validate(Arvore(), X, y)\n",
    "scoresAlterada = cross_validate(ArvoreAlterada(), X, y)\n",
    "scoresSklearn = cross_validate(DecisionTreeClassifier(), X, y)\n",
    "\n",
    "print(\"Video:\",scores['test_score'], np.mean(scores['test_score']))\n",
    "print(\"Alterada:\",scoresAlterada['test_score'], np.mean(scoresAlterada['test_score']))\n",
    "print(\"sklearn:\",scoresSklearn['test_score'], np.mean(scoresSklearn['test_score']))\n",
    "\n"
   ]
  },
  {
   "cell_type": "code",
   "execution_count": null,
   "metadata": {},
   "outputs": [
    {
     "ename": "TypeError",
     "evalue": "'(slice(None, None, None), 0)' is an invalid key",
     "output_type": "error",
     "traceback": [
      "\u001b[1;31m---------------------------------------------------------------------------\u001b[0m",
      "\u001b[1;31mTypeError\u001b[0m                                 Traceback (most recent call last)",
      "\u001b[1;32m<ipython-input-13-f17bb7a388bc>\u001b[0m in \u001b[0;36m<module>\u001b[1;34m\u001b[0m\n\u001b[0;32m     14\u001b[0m \u001b[1;33m\u001b[0m\u001b[0m\n\u001b[0;32m     15\u001b[0m         \u001b[0mmodelo\u001b[0m \u001b[1;33m=\u001b[0m \u001b[0mArvore\u001b[0m\u001b[1;33m(\u001b[0m\u001b[1;33m)\u001b[0m\u001b[1;33m\u001b[0m\u001b[1;33m\u001b[0m\u001b[0m\n\u001b[1;32m---> 16\u001b[1;33m         \u001b[0mmodelo\u001b[0m\u001b[1;33m.\u001b[0m\u001b[0mfit\u001b[0m\u001b[1;33m(\u001b[0m\u001b[0mX\u001b[0m\u001b[1;33m,\u001b[0m\u001b[0my\u001b[0m\u001b[1;33m)\u001b[0m\u001b[1;33m\u001b[0m\u001b[1;33m\u001b[0m\u001b[0m\n\u001b[0m\u001b[0;32m     17\u001b[0m         \u001b[0mypred\u001b[0m \u001b[1;33m=\u001b[0m \u001b[0mmodelo\u001b[0m\u001b[1;33m.\u001b[0m\u001b[0mpredict\u001b[0m\u001b[1;33m(\u001b[0m\u001b[0mX\u001b[0m\u001b[1;33m)\u001b[0m\u001b[1;33m\u001b[0m\u001b[1;33m\u001b[0m\u001b[0m\n\u001b[0;32m     18\u001b[0m         \u001b[0mscores\u001b[0m \u001b[1;33m=\u001b[0m \u001b[0mcross_validate\u001b[0m\u001b[1;33m(\u001b[0m\u001b[0mArvore\u001b[0m\u001b[1;33m(\u001b[0m\u001b[1;33m)\u001b[0m\u001b[1;33m,\u001b[0m \u001b[0mX\u001b[0m\u001b[1;33m,\u001b[0m \u001b[0my\u001b[0m\u001b[1;33m)\u001b[0m\u001b[1;33m\u001b[0m\u001b[1;33m\u001b[0m\u001b[0m\n",
      "\u001b[1;32m<ipython-input-6-4ec7ab7550ce>\u001b[0m in \u001b[0;36mfit\u001b[1;34m(self, X, y)\u001b[0m\n\u001b[0;32m     30\u001b[0m \u001b[1;32mclass\u001b[0m \u001b[0mArvore\u001b[0m\u001b[1;33m(\u001b[0m\u001b[0mBaseEstimator\u001b[0m\u001b[1;33m,\u001b[0m \u001b[0mClassifierMixin\u001b[0m\u001b[1;33m)\u001b[0m\u001b[1;33m:\u001b[0m\u001b[1;33m\u001b[0m\u001b[1;33m\u001b[0m\u001b[0m\n\u001b[0;32m     31\u001b[0m     \u001b[1;32mdef\u001b[0m \u001b[0mfit\u001b[0m\u001b[1;33m(\u001b[0m\u001b[0mself\u001b[0m\u001b[1;33m,\u001b[0m \u001b[0mX\u001b[0m\u001b[1;33m,\u001b[0m \u001b[0my\u001b[0m\u001b[1;33m)\u001b[0m\u001b[1;33m:\u001b[0m\u001b[1;33m\u001b[0m\u001b[1;33m\u001b[0m\u001b[0m\n\u001b[1;32m---> 32\u001b[1;33m         \u001b[0mself\u001b[0m\u001b[1;33m.\u001b[0m\u001b[0mcaracteristica\u001b[0m\u001b[1;33m,\u001b[0m \u001b[0mself\u001b[0m\u001b[1;33m.\u001b[0m\u001b[0mvalor\u001b[0m\u001b[1;33m,\u001b[0m \u001b[0mself\u001b[0m\u001b[1;33m.\u001b[0m\u001b[0mimp\u001b[0m \u001b[1;33m=\u001b[0m \u001b[0mmelhorCaracteristica\u001b[0m\u001b[1;33m(\u001b[0m\u001b[0mX\u001b[0m\u001b[1;33m,\u001b[0m\u001b[0my\u001b[0m\u001b[1;33m)\u001b[0m\u001b[1;33m\u001b[0m\u001b[1;33m\u001b[0m\u001b[0m\n\u001b[0m\u001b[0;32m     33\u001b[0m         \u001b[0mmaiores\u001b[0m \u001b[1;33m=\u001b[0m \u001b[0mX\u001b[0m\u001b[1;33m[\u001b[0m\u001b[1;33m:\u001b[0m\u001b[1;33m,\u001b[0m\u001b[0mself\u001b[0m\u001b[1;33m.\u001b[0m\u001b[0mcaracteristica\u001b[0m\u001b[1;33m]\u001b[0m \u001b[1;33m>\u001b[0m \u001b[0mself\u001b[0m\u001b[1;33m.\u001b[0m\u001b[0mvalor\u001b[0m\u001b[1;33m\u001b[0m\u001b[1;33m\u001b[0m\u001b[0m\n\u001b[0;32m     34\u001b[0m         \u001b[1;32mif\u001b[0m \u001b[0msum\u001b[0m\u001b[1;33m(\u001b[0m\u001b[0mmaiores\u001b[0m\u001b[1;33m)\u001b[0m\u001b[1;33m>\u001b[0m\u001b[1;36m0\u001b[0m \u001b[1;32mand\u001b[0m \u001b[0msum\u001b[0m\u001b[1;33m(\u001b[0m\u001b[1;33m~\u001b[0m\u001b[0mmaiores\u001b[0m\u001b[1;33m)\u001b[0m\u001b[1;33m>\u001b[0m\u001b[1;36m0\u001b[0m\u001b[1;33m:\u001b[0m\u001b[1;33m\u001b[0m\u001b[1;33m\u001b[0m\u001b[0m\n",
      "\u001b[1;32m<ipython-input-5-f3938c80006e>\u001b[0m in \u001b[0;36mmelhorCaracteristica\u001b[1;34m(X, y)\u001b[0m\n\u001b[0;32m      3\u001b[0m     \u001b[0mvalores\u001b[0m \u001b[1;33m=\u001b[0m \u001b[1;33m[\u001b[0m\u001b[1;33m]\u001b[0m\u001b[1;33m\u001b[0m\u001b[1;33m\u001b[0m\u001b[0m\n\u001b[0;32m      4\u001b[0m     \u001b[1;32mfor\u001b[0m \u001b[0mcaracteristica\u001b[0m \u001b[1;32min\u001b[0m \u001b[0mrange\u001b[0m\u001b[1;33m(\u001b[0m\u001b[0mX\u001b[0m\u001b[1;33m.\u001b[0m\u001b[0mshape\u001b[0m\u001b[1;33m[\u001b[0m\u001b[1;36m1\u001b[0m\u001b[1;33m]\u001b[0m\u001b[1;33m)\u001b[0m\u001b[1;33m:\u001b[0m\u001b[1;33m\u001b[0m\u001b[1;33m\u001b[0m\u001b[0m\n\u001b[1;32m----> 5\u001b[1;33m         \u001b[0mvalor\u001b[0m\u001b[1;33m,\u001b[0m \u001b[0mimp\u001b[0m \u001b[1;33m=\u001b[0m \u001b[0mmelhorValor\u001b[0m\u001b[1;33m(\u001b[0m\u001b[0mX\u001b[0m\u001b[1;33m[\u001b[0m\u001b[1;33m:\u001b[0m\u001b[1;33m,\u001b[0m\u001b[0mcaracteristica\u001b[0m\u001b[1;33m]\u001b[0m\u001b[1;33m,\u001b[0m \u001b[0my\u001b[0m\u001b[1;33m)\u001b[0m\u001b[1;33m\u001b[0m\u001b[1;33m\u001b[0m\u001b[0m\n\u001b[0m\u001b[0;32m      6\u001b[0m         \u001b[0mimpurezas\u001b[0m\u001b[1;33m.\u001b[0m\u001b[0mappend\u001b[0m\u001b[1;33m(\u001b[0m\u001b[0mimp\u001b[0m\u001b[1;33m)\u001b[0m\u001b[1;33m\u001b[0m\u001b[1;33m\u001b[0m\u001b[0m\n\u001b[0;32m      7\u001b[0m         \u001b[0mvalores\u001b[0m\u001b[1;33m.\u001b[0m\u001b[0mappend\u001b[0m\u001b[1;33m(\u001b[0m\u001b[0mvalor\u001b[0m\u001b[1;33m)\u001b[0m\u001b[1;33m\u001b[0m\u001b[1;33m\u001b[0m\u001b[0m\n",
      "\u001b[1;32m~\\Anaconda3\\lib\\site-packages\\pandas\\core\\frame.py\u001b[0m in \u001b[0;36m__getitem__\u001b[1;34m(self, key)\u001b[0m\n\u001b[0;32m   2978\u001b[0m             \u001b[1;32mif\u001b[0m \u001b[0mself\u001b[0m\u001b[1;33m.\u001b[0m\u001b[0mcolumns\u001b[0m\u001b[1;33m.\u001b[0m\u001b[0mnlevels\u001b[0m \u001b[1;33m>\u001b[0m \u001b[1;36m1\u001b[0m\u001b[1;33m:\u001b[0m\u001b[1;33m\u001b[0m\u001b[1;33m\u001b[0m\u001b[0m\n\u001b[0;32m   2979\u001b[0m                 \u001b[1;32mreturn\u001b[0m \u001b[0mself\u001b[0m\u001b[1;33m.\u001b[0m\u001b[0m_getitem_multilevel\u001b[0m\u001b[1;33m(\u001b[0m\u001b[0mkey\u001b[0m\u001b[1;33m)\u001b[0m\u001b[1;33m\u001b[0m\u001b[1;33m\u001b[0m\u001b[0m\n\u001b[1;32m-> 2980\u001b[1;33m             \u001b[0mindexer\u001b[0m \u001b[1;33m=\u001b[0m \u001b[0mself\u001b[0m\u001b[1;33m.\u001b[0m\u001b[0mcolumns\u001b[0m\u001b[1;33m.\u001b[0m\u001b[0mget_loc\u001b[0m\u001b[1;33m(\u001b[0m\u001b[0mkey\u001b[0m\u001b[1;33m)\u001b[0m\u001b[1;33m\u001b[0m\u001b[1;33m\u001b[0m\u001b[0m\n\u001b[0m\u001b[0;32m   2981\u001b[0m             \u001b[1;32mif\u001b[0m \u001b[0mis_integer\u001b[0m\u001b[1;33m(\u001b[0m\u001b[0mindexer\u001b[0m\u001b[1;33m)\u001b[0m\u001b[1;33m:\u001b[0m\u001b[1;33m\u001b[0m\u001b[1;33m\u001b[0m\u001b[0m\n\u001b[0;32m   2982\u001b[0m                 \u001b[0mindexer\u001b[0m \u001b[1;33m=\u001b[0m \u001b[1;33m[\u001b[0m\u001b[0mindexer\u001b[0m\u001b[1;33m]\u001b[0m\u001b[1;33m\u001b[0m\u001b[1;33m\u001b[0m\u001b[0m\n",
      "\u001b[1;32m~\\Anaconda3\\lib\\site-packages\\pandas\\core\\indexes\\base.py\u001b[0m in \u001b[0;36mget_loc\u001b[1;34m(self, key, method, tolerance)\u001b[0m\n\u001b[0;32m   2895\u001b[0m                 )\n\u001b[0;32m   2896\u001b[0m             \u001b[1;32mtry\u001b[0m\u001b[1;33m:\u001b[0m\u001b[1;33m\u001b[0m\u001b[1;33m\u001b[0m\u001b[0m\n\u001b[1;32m-> 2897\u001b[1;33m                 \u001b[1;32mreturn\u001b[0m \u001b[0mself\u001b[0m\u001b[1;33m.\u001b[0m\u001b[0m_engine\u001b[0m\u001b[1;33m.\u001b[0m\u001b[0mget_loc\u001b[0m\u001b[1;33m(\u001b[0m\u001b[0mkey\u001b[0m\u001b[1;33m)\u001b[0m\u001b[1;33m\u001b[0m\u001b[1;33m\u001b[0m\u001b[0m\n\u001b[0m\u001b[0;32m   2898\u001b[0m             \u001b[1;32mexcept\u001b[0m \u001b[0mKeyError\u001b[0m\u001b[1;33m:\u001b[0m\u001b[1;33m\u001b[0m\u001b[1;33m\u001b[0m\u001b[0m\n\u001b[0;32m   2899\u001b[0m                 \u001b[1;32mreturn\u001b[0m \u001b[0mself\u001b[0m\u001b[1;33m.\u001b[0m\u001b[0m_engine\u001b[0m\u001b[1;33m.\u001b[0m\u001b[0mget_loc\u001b[0m\u001b[1;33m(\u001b[0m\u001b[0mself\u001b[0m\u001b[1;33m.\u001b[0m\u001b[0m_maybe_cast_indexer\u001b[0m\u001b[1;33m(\u001b[0m\u001b[0mkey\u001b[0m\u001b[1;33m)\u001b[0m\u001b[1;33m)\u001b[0m\u001b[1;33m\u001b[0m\u001b[1;33m\u001b[0m\u001b[0m\n",
      "\u001b[1;32mpandas\\_libs\\index.pyx\u001b[0m in \u001b[0;36mpandas._libs.index.IndexEngine.get_loc\u001b[1;34m()\u001b[0m\n",
      "\u001b[1;32mpandas\\_libs\\index.pyx\u001b[0m in \u001b[0;36mpandas._libs.index.IndexEngine.get_loc\u001b[1;34m()\u001b[0m\n",
      "\u001b[1;31mTypeError\u001b[0m: '(slice(None, None, None), 0)' is an invalid key"
     ]
    }
   ],
   "source": [
    "DBs = [\n",
    "\tpd.read_csv(\"water_potability.csv\"),\n",
    "\tpd.read_csv(\"sobar-72.csv\"),\n",
    "\tpd.read_csv(\"winequalityN.csv\")\n",
    "\t]\n",
    "\n",
    "for db in DBs:\n",
    "\tdb = db.dropna()\n",
    "\tdata = db.copy()\n",
    "\tX, y = data.iloc[:,:-1], data.iloc[:,-1]\n",
    "\t\n",
    "\t# print(X.shape, y.shape)\n",
    "\t# print(db.head())\n",
    "\n",
    "\tmodelo = Arvore()\n",
    "\tmodelo.fit(X,y)\n",
    "\typred = modelo.predict(X)\n",
    "\tscores = cross_validate(Arvore(), X, y)\n",
    "\tprint(\"modelo Video:\",np.mean(scores['test_score']))\n",
    "\n",
    "\tmodelo = ArvoreAlterada()\n",
    "\tmodelo.fit(X,y)\n",
    "\typred = modelo.predict(X)\n",
    "\tscores = cross_validate(ArvoreAlterada(), X, y)\n",
    "\tprint(\"modelo Proprio:\",np.mean(scores['test_score']))\n",
    "\n",
    "\tmodelo = DecisionTreeClassifier()\n",
    "\tmodelo.fit(X,y)\n",
    "\typred = modelo.predict(X)\n",
    "\tscores = cross_validate(DecisionTreeClassifier(), X, y)\n",
    "\tprint(\"modelo Sklearn:\",np.mean(scores['test_score']))"
   ]
  },
  {
   "cell_type": "markdown",
   "metadata": {},
   "source": [
    "Escrever um paragrafo expondo minha interpretação dos resultados obtidos\n",
    "\n",
    "Corrigir o erro: '(slice(None, None, None), 0)' is an invalid key"
   ]
  }
 ],
 "metadata": {
  "interpreter": {
   "hash": "e012100dabced40fbf00f8470b0f8a21c87964cae25924970dac29b6fb52ebed"
  },
  "kernelspec": {
   "display_name": "Python 3.8.5 64-bit ('.venv')",
   "language": "python",
   "name": "python3"
  },
  "language_info": {
   "codemirror_mode": {
    "name": "ipython",
    "version": 3
   },
   "file_extension": ".py",
   "mimetype": "text/x-python",
   "name": "python",
   "nbconvert_exporter": "python",
   "pygments_lexer": "ipython3",
   "version": "3.7.4"
  },
  "orig_nbformat": 2
 },
 "nbformat": 4,
 "nbformat_minor": 2
}
