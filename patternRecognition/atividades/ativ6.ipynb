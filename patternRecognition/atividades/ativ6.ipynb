{
 "cells": [
  {
   "cell_type": "code",
   "execution_count": 1,
   "metadata": {},
   "outputs": [],
   "source": [
    "from sklearn.impute import SimpleImputer\n",
    "from sklearn.preprocessing import OneHotEncoder, StandardScaler\n",
    "from sklearn.pipeline import Pipeline, FeatureUnion\n",
    "from sklearn.ensemble import RandomForestClassifier\n",
    "from sklearn.tree import DecisionTreeClassifier\n",
    "from sklearn.model_selection import GridSearchCV, cross_validate, RepeatedKFold\n",
    "from xgboost import XGBClassifier\n",
    "import numpy as np\n",
    "import pandas as pd"
   ]
  },
  {
   "cell_type": "code",
   "execution_count": 2,
   "metadata": {},
   "outputs": [],
   "source": [
    "train = pd.read_csv('train.csv')\n",
    "test = pd.read_csv('test.csv')\n",
    "X = train[list(test.columns)]\n",
    "y = train[train.columns[~train.columns.isin(test.columns)]]"
   ]
  },
  {
   "cell_type": "code",
   "execution_count": 3,
   "metadata": {},
   "outputs": [],
   "source": [
    "from sklearn.base import BaseEstimator, TransformerMixin\n",
    "\n",
    "class AtributosDesejados(BaseEstimator, TransformerMixin):\n",
    "    def fit(self, X, y=None):\n",
    "        self.colunasIndesejadas = ['PassengerId', 'Name', 'Ticket', 'Cabin']\n",
    "        return self\n",
    "    def transform(self, X, y=None):\n",
    "        return X.drop(self.colunasIndesejadas,axis=1)\n",
    "\n",
    "\n",
    "class AtributosNumericos(BaseEstimator, TransformerMixin):\n",
    "    def fit(self, X, y=None):\n",
    "        self.colunasNumericas = X.select_dtypes(include='number').columns\n",
    "        return self\n",
    "    def transform(self, X, y=None):\n",
    "        return X[self.colunasNumericas]\n",
    "\n",
    "class AtributosCategoricos(BaseEstimator, TransformerMixin):\n",
    "    def fit(self, X, y=None):\n",
    "        self.colunasCategoricas = X.select_dtypes(include='object').columns\n",
    "        return self\n",
    "    def transform(self, X, y=None):\n",
    "        return X[self.colunasCategoricas]"
   ]
  },
  {
   "cell_type": "code",
   "execution_count": 4,
   "metadata": {},
   "outputs": [],
   "source": [
    "\n",
    "pipecat = Pipeline([\n",
    "    ('atributos_categoricos', AtributosCategoricos()),\n",
    "    ('imputer', SimpleImputer(strategy='most_frequent')),\n",
    "    ('encoder', OneHotEncoder())\n",
    "])\n",
    "\n",
    "pipenum = Pipeline([\n",
    "    ('atributos_numericos', AtributosNumericos()),\n",
    "    ('imputer', SimpleImputer(strategy='median')),\n",
    "    ('scaler', StandardScaler())\n",
    "])\n",
    "\n",
    "unecaracteristicas = FeatureUnion([\n",
    "    ('pipenum', pipenum),\n",
    "    ('pipecat', pipecat)\n",
    "])"
   ]
  },
  {
   "cell_type": "code",
   "execution_count": 6,
   "metadata": {},
   "outputs": [
    {
     "name": "stdout",
     "output_type": "stream",
     "text": [
      "{'fit_time': array([6.90446758, 6.05168271, 5.5429914 , 5.53277206, 6.24699116,\n",
      "       6.98619056, 9.02211285, 5.58198476, 5.50723982, 6.00785899,\n",
      "       5.51637459, 5.73922491, 6.21163106, 5.59863281, 5.95674801,\n",
      "       6.31542063, 5.77839947, 6.30803132, 5.54453516, 5.56310272,\n",
      "       5.90472198, 5.73435116, 5.922261  , 5.84968519, 5.66764522,\n",
      "       7.01298261, 5.62689996, 5.56172705, 6.42032099, 5.55916882]), 'score_time': array([0.01534891, 0.0139997 , 0.01472926, 0.01303267, 0.02353787,\n",
      "       0.03900361, 0.01208234, 0.01962924, 0.01105022, 0.01299524,\n",
      "       0.01477885, 0.03351426, 0.01474476, 0.01422071, 0.01454091,\n",
      "       0.01401114, 0.01522183, 0.01494646, 0.01476383, 0.0227654 ,\n",
      "       0.01650786, 0.01468754, 0.0174458 , 0.01208425, 0.0147028 ,\n",
      "       0.01932526, 0.01650834, 0.01486683, 0.01490688, 0.01464176]), 'test_score': array([0.7962963 , 0.78101604, 0.91069519, 0.78896104, 0.83622449,\n",
      "       0.7990625 , 0.77222222, 0.86042781, 0.83622449, 0.85734149,\n",
      "       0.9072302 , 0.87528736, 0.90847458, 0.81888545, 0.76689189,\n",
      "       0.84225572, 0.84893048, 0.87846154, 0.87280702, 0.80384199,\n",
      "       0.83777778, 0.76377551, 0.87421384, 0.8071875 , 0.78495441,\n",
      "       0.8131016 , 0.82429379, 0.84895833, 0.86349206, 0.81424149])}\n",
      "0.833117802842611\n",
      "0.04168842213344616\n"
     ]
    }
   ],
   "source": [
    "preproc = Pipeline([\n",
    "    ('atributos_desejados', AtributosDesejados()),\n",
    "    ('unecaracteristicas', unecaracteristicas)    \n",
    "])\n",
    "\n",
    "pipetotal = Pipeline([\n",
    "    ('preproc', preproc),\n",
    "    ('arvore', DecisionTreeClassifier())\n",
    "    # ('classificador', XGBClassifier(\n",
    "    #     nthread=4,\n",
    "    #     seed=47\n",
    "    # ))\n",
    "])\n",
    "\n",
    "parametros = {\n",
    "    'arvore__max_depth': [None] + list(range(1,20,2)),\n",
    "    'arvore__criterion': ['gini', 'entropy']\n",
    "}\n",
    "\n",
    "# parametros = {\n",
    "#     'max_depth': [10],\n",
    "#     'n_estimators': [100],\n",
    "#     'learning_rate': [0.1]\n",
    "# }\n",
    "\n",
    "modelo = GridSearchCV(pipetotal, param_grid=parametros)\n",
    "\n",
    "scores = cross_validate(modelo, X, y, scoring = 'roc_auc',\n",
    "                        cv=RepeatedKFold(n_splits=10, n_repeats=3, random_state=47)\n",
    ")\n",
    "print(scores)\n",
    "print(np.mean(scores['test_score']))\n",
    "print(np.std(scores['test_score']))"
   ]
  },
  {
   "cell_type": "code",
   "execution_count": 7,
   "metadata": {},
   "outputs": [
    {
     "name": "stderr",
     "output_type": "stream",
     "text": [
      "c:\\Users\\luizg\\Anaconda3\\envs\\patterRecognition\\lib\\site-packages\\ipykernel_launcher.py:4: SettingWithCopyWarning: \n",
      "A value is trying to be set on a copy of a slice from a DataFrame.\n",
      "Try using .loc[row_indexer,col_indexer] = value instead\n",
      "\n",
      "See the caveats in the documentation: https://pandas.pydata.org/pandas-docs/stable/user_guide/indexing.html#returning-a-view-versus-a-copy\n",
      "  after removing the cwd from sys.path.\n"
     ]
    }
   ],
   "source": [
    "modelo.fit(X,y)\n",
    "y_pred = modelo.predict(test)\n",
    "result = test[['PassengerId']]\n",
    "result['Survived'] = y_pred\n",
    "result.to_csv('submission.csv',index=False)"
   ]
  }
 ],
 "metadata": {
  "interpreter": {
   "hash": "1d71d5f4ff41ffcaeb3b8d138d68eb60ecfc5cbf7bce34dee944aca1c71b0f5f"
  },
  "kernelspec": {
   "display_name": "Python 3.6.13 ('patterRecognition')",
   "language": "python",
   "name": "python3"
  },
  "language_info": {
   "codemirror_mode": {
    "name": "ipython",
    "version": 3
   },
   "file_extension": ".py",
   "mimetype": "text/x-python",
   "name": "python",
   "nbconvert_exporter": "python",
   "pygments_lexer": "ipython3",
   "version": "3.6.13"
  },
  "orig_nbformat": 4
 },
 "nbformat": 4,
 "nbformat_minor": 2
}
