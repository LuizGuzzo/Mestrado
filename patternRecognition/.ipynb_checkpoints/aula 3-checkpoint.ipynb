{
 "cells": [
  {
   "cell_type": "code",
   "execution_count": 2,
   "id": "86be4d97",
   "metadata": {},
   "outputs": [],
   "source": [
    "class regressao_linear():\n",
    "    def __init__(self):\n",
    "        self.w = np.zeros((2,1))\n",
    "    @staticmethod\n",
    "    def includeBias(X):\n",
    "        bias = np.ones((X.shape[0],1))\n",
    "        Xb = np.concatenate((bias,X),axis=1)\n",
    "        return Xb\n",
    "    def fit(X,y):\n",
    "        Xb = regressao_linear.includeBiase(X)\n",
    "        for _ in range(500):\n",
    "            ypred = \n",
    "            \n",
    "    def predict(self,X,y=None):\n",
    "        Xb = regressao_linear.includeBias(X)"
   ]
  },
  {
   "cell_type": "code",
   "execution_count": null,
   "id": "bf246dfd",
   "metadata": {},
   "outputs": [],
   "source": []
  }
 ],
 "metadata": {
  "kernelspec": {
   "display_name": "Python 3",
   "language": "python",
   "name": "python3"
  },
  "language_info": {
   "codemirror_mode": {
    "name": "ipython",
    "version": 3
   },
   "file_extension": ".py",
   "mimetype": "text/x-python",
   "name": "python",
   "nbconvert_exporter": "python",
   "pygments_lexer": "ipython3",
   "version": "3.6.13"
  }
 },
 "nbformat": 4,
 "nbformat_minor": 5
}
