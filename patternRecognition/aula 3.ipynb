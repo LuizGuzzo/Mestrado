{
 "cells": [
  {
   "cell_type": "code",
   "execution_count": null,
   "id": "6795a296",
   "metadata": {},
   "outputs": [],
   "source": [
    "from sklearn.datasets import load_boston"
   ]
  },
  {
   "cell_type": "code",
   "execution_count": null,
   "id": "3a29e69f",
   "metadata": {},
   "outputs": [],
   "source": [
    "boston = load_boston()\n",
    "\n",
    "boston.keys()\n"
   ]
  },
  {
   "cell_type": "code",
   "execution_count": null,
   "id": "2380e4fc",
   "metadata": {},
   "outputs": [],
   "source": [
    "boston.data"
   ]
  },
  {
   "cell_type": "code",
   "execution_count": null,
   "id": "1934119e",
   "metadata": {},
   "outputs": [],
   "source": [
    "boston.target"
   ]
  },
  {
   "cell_type": "code",
   "execution_count": null,
   "id": "2054c1bc",
   "metadata": {},
   "outputs": [],
   "source": [
    "import matplotlib.pyplot as plt\n",
    "\n",
    "X, y = boston.data, boston.target\n",
    "\n",
    "plt.scatter(X[:,0], y)\n",
    "plt.show()"
   ]
  },
  {
   "cell_type": "code",
   "execution_count": null,
   "id": "989d8982",
   "metadata": {},
   "outputs": [],
   "source": [
    "plt.scatter(X[:,1], y)\n",
    "plt.show()"
   ]
  },
  {
   "cell_type": "code",
   "execution_count": null,
   "id": "f3d0303a",
   "metadata": {},
   "outputs": [],
   "source": [
    "for i in range(X.shape[1]):\n",
    "  print(i)\n",
    "\n",
    "  plt.scatter(X[:,i], y)\n",
    "  plt.show()"
   ]
  },
  {
   "cell_type": "code",
   "execution_count": null,
   "id": "76ce2036",
   "metadata": {},
   "outputs": [],
   "source": [
    "X12 = X[:, 12:13]\n",
    "\n",
    "plt.scatter(X12, y)\n",
    "plt.show()"
   ]
  },
  {
   "cell_type": "code",
   "execution_count": null,
   "id": "eb65bd6f",
   "metadata": {},
   "outputs": [],
   "source": [
    "def modelolinear(X, a, b):\n",
    "  y = a * X + b\n",
    "  return y"
   ]
  },
  {
   "cell_type": "code",
   "execution_count": null,
   "id": "d565e439",
   "metadata": {},
   "outputs": [],
   "source": [
    "ypred = modelolinear(X12, -1, 40)\n",
    "\n",
    "plt.scatter(X12, y)\n",
    "plt.plot(X12, ypred, 'r')\n",
    "plt.show()"
   ]
  },
  {
   "cell_type": "code",
   "execution_count": null,
   "id": "945fab36",
   "metadata": {},
   "outputs": [],
   "source": [
    "def mae(y, ypred):\n",
    "  yDiff = ypred - y.reshape(-1, 1)\n",
    "  yAbs = abs(yDiff)\n",
    "  erroSum = sum(yAbs)\n",
    "\n",
    "  return erroSum/len(yAbs)"
   ]
  },
  {
   "cell_type": "code",
   "execution_count": null,
   "id": "3043e907",
   "metadata": {},
   "outputs": [],
   "source": [
    "print(mae(y, ypred))"
   ]
  },
  {
   "cell_type": "code",
   "execution_count": null,
   "id": "dafe1f43",
   "metadata": {},
   "outputs": [],
   "source": [
    "def mse(y, ypred):\n",
    "  yDiff = ypred - y.reshape(-1, 1)\n",
    "  yDiffSquare = yDiff**2\n",
    "  erroSum = sum(yDiffSquare)\n",
    "\n",
    "  return erroSum/len(ypred)"
   ]
  },
  {
   "cell_type": "code",
   "execution_count": null,
   "id": "3b557fa6",
   "metadata": {},
   "outputs": [],
   "source": [
    "print(mse(y, ypred))"
   ]
  },
  {
   "cell_type": "code",
   "execution_count": null,
   "id": "07ed0fc1",
   "metadata": {},
   "outputs": [],
   "source": [
    "def rmse(y, ypred):\n",
    "  mse = mean_squared_error(y, ypred)\n",
    "\n",
    "  return sqrt(mse)"
   ]
  },
  {
   "cell_type": "code",
   "execution_count": null,
   "id": "6775bf8d",
   "metadata": {},
   "outputs": [],
   "source": []
  },
  {
   "cell_type": "code",
   "execution_count": null,
   "id": "e691c3f3",
   "metadata": {},
   "outputs": [],
   "source": []
  },
  {
   "cell_type": "code",
   "execution_count": null,
   "id": "1713365f",
   "metadata": {},
   "outputs": [],
   "source": []
  },
  {
   "cell_type": "code",
   "execution_count": 2,
   "id": "ba9a0858",
   "metadata": {},
   "outputs": [],
   "source": [
    "class regressao_linear():\n",
    "    \n",
    "    def __init__(self):\n",
    "        self.w = np.zeros((2,1))\n",
    "        \n",
    "    @staticmethod\n",
    "    def includeBias(X):\n",
    "        bias = np.ones((X.shape[0],1))\n",
    "        Xb = np.concatenate((bias,X),axis=1)\n",
    "        return Xb\n",
    "    \n",
    "    def fit(X,y):\n",
    "        Xb = regressao_linear.includeBiase(X)\n",
    "        for _ in range(500):\n",
    "            ypred = \n",
    "            \n",
    "    def predict(self,X,y=None):\n",
    "        Xb = regressao_linear.includeBias(X)\n",
    "        ypred = Xb.T.dot(self.W)\n",
    "        return ypred"
   ]
  },
  {
   "cell_type": "code",
   "execution_count": null,
   "id": "8efd8900",
   "metadata": {},
   "outputs": [],
   "source": []
  }
 ],
 "metadata": {
  "kernelspec": {
   "display_name": "Python 3",
   "language": "python",
   "name": "python3"
  },
  "language_info": {
   "codemirror_mode": {
    "name": "ipython",
    "version": 3
   },
   "file_extension": ".py",
   "mimetype": "text/x-python",
   "name": "python",
   "nbconvert_exporter": "python",
   "pygments_lexer": "ipython3",
   "version": "3.6.13"
  }
 },
 "nbformat": 4,
 "nbformat_minor": 5
}
